{
  "nbformat": 4,
  "nbformat_minor": 0,
  "metadata": {
    "colab": {
      "provenance": [],
      "collapsed_sections": []
    },
    "kernelspec": {
      "name": "python3",
      "display_name": "Python 3"
    },
    "language_info": {
      "name": "python"
    }
  },
  "cells": [
    {
      "cell_type": "markdown",
      "source": [
        "# 1. _Rod Cutting_\n",
        "\n",
        "Se requiere conocer la manera óptima de cortar una varilla de manera de maximizar la ganancia (donde cada largo de corte tiene un precio asociado).\n",
        "\n",
        "**Entrada**: Vector de precios, donde arr[0] es el precio de un corte de largo 1, arr[1] es el de largo 2 y así hasta arr[n-1] que es el precio del corte de largo $n$; valor $n$, que corresponde al largo de la varilla.\n",
        "\n",
        "**Salida**: Valor de retorno óptimo $r_n$, resultante luego de cortar la varilla y vender sus partes."
      ],
      "metadata": {
        "id": "MaCXyeAOWHZ_"
      }
    },
    {
      "cell_type": "markdown",
      "source": [
        "## 1.1 _Rod Cutting_ con implementación Recursiva"
      ],
      "metadata": {
        "id": "FX-jK7xZXQq3"
      }
    },
    {
      "cell_type": "code",
      "source": [
        "# Pseudocódigo: p. 363 Introduction to Algorithms 3rd Edition\n",
        "def rodCutN(arr, size, verbose=False):\n",
        "    global c\n",
        "    c += 1\n",
        "    cortes = 0\n",
        "    if size == 0: return 0, 0 # Caso base\n",
        "    q = float(\"-inf\")\n",
        "\n",
        "    # Se calcula r_n = max(p_i + r_(n-i)), suma que maximiza el valor, recursivamente\n",
        "    for i in range(1, size + 1):\n",
        "        a, _ = rodCutN(arr, size-i, verbose)\n",
        "        tmp = arr[i-1] + a\n",
        "        if q < tmp:\n",
        "            q = tmp\n",
        "            cortes = i\n",
        "    if verbose:\n",
        "        print(f'Valor de q: {q}')\n",
        "        print(f'Cortes: {cortes}')\n",
        "    return q, cortes"
      ],
      "metadata": {
        "id": "dOAx13A7iAxc"
      },
      "execution_count": 1,
      "outputs": []
    },
    {
      "cell_type": "code",
      "source": [
        "arr = [1, 5, 8, 9, 10, 17, 17, 20]\n",
        "size = len(arr)\n",
        "c = 0\n",
        "q, cortes = rodCutN(arr, size)\n",
        "print(f'\\nGanancia maximizada: {q}')\n",
        "print(f'Llamadas recursivas: {c}')\n",
        "print(f'Cortes: {cortes}')"
      ],
      "metadata": {
        "colab": {
          "base_uri": "https://localhost:8080/"
        },
        "id": "sh_xF9gsifnV",
        "outputId": "4185a438-4156-44d7-96fc-94bbf4fb04db"
      },
      "execution_count": 2,
      "outputs": [
        {
          "output_type": "stream",
          "name": "stdout",
          "text": [
            "\n",
            "Ganancia maximizada: 22\n",
            "Llamadas recursivas: 256\n",
            "Cortes: 2\n"
          ]
        }
      ]
    },
    {
      "cell_type": "markdown",
      "source": [
        "## 2. _Rod Cutting_ con Programación Dinámica"
      ],
      "metadata": {
        "id": "Xm5_SXq9V75J"
      }
    },
    {
      "cell_type": "code",
      "source": [
        "def extendedRodCut(arr, size, verbose=False):\n",
        "    r = [0 for x in range(size+1)] # Lista de resultados\n",
        "    s = [0 for x in range(size+1)] # Lista de resultados\n",
        "\n",
        "    # Bloque for resuelve cada subproblema de tamaño j, con j=1, 2, ..., n\n",
        "    # en orden creciente. Se almacena el valor calculado en la posición r[j]\n",
        "    # para ser usado en el siguiente cálculo de subproblema y se almacena el\n",
        "    # número de cortes para maximizar el valor\n",
        "    for j in range(1, size+1):\n",
        "        q = float('-inf')\n",
        "        for i in range(j):\n",
        "            tmp = arr[i] + r[j-i-1]\n",
        "            if q < tmp:\n",
        "                q = tmp\n",
        "                s[j] = i\n",
        "                if verbose:\n",
        "                    print(f'Valor de q: {q}')\n",
        "                    print(f'Cortes: {s[j]}')\n",
        "        r[j] = q\n",
        "        if verbose:\n",
        "            print(f'valor del subproblema {j}: {r[j]}')\n",
        "    return r[size], s[size]"
      ],
      "metadata": {
        "id": "xQP-bUz6qZk6"
      },
      "execution_count": 3,
      "outputs": []
    },
    {
      "cell_type": "code",
      "source": [
        "arr = [1, 5, 8, 9, 10, 17, 17, 20]\n",
        "size = len(arr)\n",
        "precio, cortes = extendedRodCut(arr, size)\n",
        "print(f'\\nGanancia maximizada: {precio}')\n",
        "print(f'\\nCortes: {cortes}')"
      ],
      "metadata": {
        "colab": {
          "base_uri": "https://localhost:8080/"
        },
        "id": "WjPbDuGxreN7",
        "outputId": "5b0139b2-48fc-4832-c337-f9ba77e449cc"
      },
      "execution_count": 4,
      "outputs": [
        {
          "output_type": "stream",
          "name": "stdout",
          "text": [
            "\n",
            "Ganancia maximizada: 22\n",
            "\n",
            "Cortes: 1\n"
          ]
        }
      ]
    },
    {
      "cell_type": "markdown",
      "source": [
        "# 3. Algoritmos con `verbose=True`"
      ],
      "metadata": {
        "id": "w_N0qlDGE-sI"
      }
    },
    {
      "cell_type": "code",
      "source": [
        "arr = [1, 5, 8, 9, 10, 17, 17, 20]\n",
        "size = len(arr)\n",
        "c = 0\n",
        "q, cortes = rodCutN(arr, size, True)\n",
        "print(f'\\nGanancia maximizada: {q}')\n",
        "print(f'Llamadas recursivas: {c}')\n",
        "print(f'Cortes: {cortes}')"
      ],
      "metadata": {
        "colab": {
          "base_uri": "https://localhost:8080/"
        },
        "id": "_QQKkbqzE5Ww",
        "outputId": "3cf92a11-6deb-481b-858d-a0da305ff81f"
      },
      "execution_count": 5,
      "outputs": [
        {
          "output_type": "stream",
          "name": "stdout",
          "text": [
            "Valor de q: 1\n",
            "Cortes: 1\n",
            "Valor de q: 5\n",
            "Cortes: 2\n",
            "Valor de q: 1\n",
            "Cortes: 1\n",
            "Valor de q: 8\n",
            "Cortes: 3\n",
            "Valor de q: 1\n",
            "Cortes: 1\n",
            "Valor de q: 5\n",
            "Cortes: 2\n",
            "Valor de q: 1\n",
            "Cortes: 1\n",
            "Valor de q: 10\n",
            "Cortes: 2\n",
            "Valor de q: 1\n",
            "Cortes: 1\n",
            "Valor de q: 5\n",
            "Cortes: 2\n",
            "Valor de q: 1\n",
            "Cortes: 1\n",
            "Valor de q: 8\n",
            "Cortes: 3\n",
            "Valor de q: 1\n",
            "Cortes: 1\n",
            "Valor de q: 5\n",
            "Cortes: 2\n",
            "Valor de q: 1\n",
            "Cortes: 1\n",
            "Valor de q: 13\n",
            "Cortes: 2\n",
            "Valor de q: 1\n",
            "Cortes: 1\n",
            "Valor de q: 5\n",
            "Cortes: 2\n",
            "Valor de q: 1\n",
            "Cortes: 1\n",
            "Valor de q: 8\n",
            "Cortes: 3\n",
            "Valor de q: 1\n",
            "Cortes: 1\n",
            "Valor de q: 5\n",
            "Cortes: 2\n",
            "Valor de q: 1\n",
            "Cortes: 1\n",
            "Valor de q: 10\n",
            "Cortes: 2\n",
            "Valor de q: 1\n",
            "Cortes: 1\n",
            "Valor de q: 5\n",
            "Cortes: 2\n",
            "Valor de q: 1\n",
            "Cortes: 1\n",
            "Valor de q: 8\n",
            "Cortes: 3\n",
            "Valor de q: 1\n",
            "Cortes: 1\n",
            "Valor de q: 5\n",
            "Cortes: 2\n",
            "Valor de q: 1\n",
            "Cortes: 1\n",
            "Valor de q: 17\n",
            "Cortes: 6\n",
            "Valor de q: 1\n",
            "Cortes: 1\n",
            "Valor de q: 5\n",
            "Cortes: 2\n",
            "Valor de q: 1\n",
            "Cortes: 1\n",
            "Valor de q: 8\n",
            "Cortes: 3\n",
            "Valor de q: 1\n",
            "Cortes: 1\n",
            "Valor de q: 5\n",
            "Cortes: 2\n",
            "Valor de q: 1\n",
            "Cortes: 1\n",
            "Valor de q: 10\n",
            "Cortes: 2\n",
            "Valor de q: 1\n",
            "Cortes: 1\n",
            "Valor de q: 5\n",
            "Cortes: 2\n",
            "Valor de q: 1\n",
            "Cortes: 1\n",
            "Valor de q: 8\n",
            "Cortes: 3\n",
            "Valor de q: 1\n",
            "Cortes: 1\n",
            "Valor de q: 5\n",
            "Cortes: 2\n",
            "Valor de q: 1\n",
            "Cortes: 1\n",
            "Valor de q: 13\n",
            "Cortes: 2\n",
            "Valor de q: 1\n",
            "Cortes: 1\n",
            "Valor de q: 5\n",
            "Cortes: 2\n",
            "Valor de q: 1\n",
            "Cortes: 1\n",
            "Valor de q: 8\n",
            "Cortes: 3\n",
            "Valor de q: 1\n",
            "Cortes: 1\n",
            "Valor de q: 5\n",
            "Cortes: 2\n",
            "Valor de q: 1\n",
            "Cortes: 1\n",
            "Valor de q: 10\n",
            "Cortes: 2\n",
            "Valor de q: 1\n",
            "Cortes: 1\n",
            "Valor de q: 5\n",
            "Cortes: 2\n",
            "Valor de q: 1\n",
            "Cortes: 1\n",
            "Valor de q: 8\n",
            "Cortes: 3\n",
            "Valor de q: 1\n",
            "Cortes: 1\n",
            "Valor de q: 5\n",
            "Cortes: 2\n",
            "Valor de q: 1\n",
            "Cortes: 1\n",
            "Valor de q: 18\n",
            "Cortes: 1\n",
            "Valor de q: 1\n",
            "Cortes: 1\n",
            "Valor de q: 5\n",
            "Cortes: 2\n",
            "Valor de q: 1\n",
            "Cortes: 1\n",
            "Valor de q: 8\n",
            "Cortes: 3\n",
            "Valor de q: 1\n",
            "Cortes: 1\n",
            "Valor de q: 5\n",
            "Cortes: 2\n",
            "Valor de q: 1\n",
            "Cortes: 1\n",
            "Valor de q: 10\n",
            "Cortes: 2\n",
            "Valor de q: 1\n",
            "Cortes: 1\n",
            "Valor de q: 5\n",
            "Cortes: 2\n",
            "Valor de q: 1\n",
            "Cortes: 1\n",
            "Valor de q: 8\n",
            "Cortes: 3\n",
            "Valor de q: 1\n",
            "Cortes: 1\n",
            "Valor de q: 5\n",
            "Cortes: 2\n",
            "Valor de q: 1\n",
            "Cortes: 1\n",
            "Valor de q: 13\n",
            "Cortes: 2\n",
            "Valor de q: 1\n",
            "Cortes: 1\n",
            "Valor de q: 5\n",
            "Cortes: 2\n",
            "Valor de q: 1\n",
            "Cortes: 1\n",
            "Valor de q: 8\n",
            "Cortes: 3\n",
            "Valor de q: 1\n",
            "Cortes: 1\n",
            "Valor de q: 5\n",
            "Cortes: 2\n",
            "Valor de q: 1\n",
            "Cortes: 1\n",
            "Valor de q: 10\n",
            "Cortes: 2\n",
            "Valor de q: 1\n",
            "Cortes: 1\n",
            "Valor de q: 5\n",
            "Cortes: 2\n",
            "Valor de q: 1\n",
            "Cortes: 1\n",
            "Valor de q: 8\n",
            "Cortes: 3\n",
            "Valor de q: 1\n",
            "Cortes: 1\n",
            "Valor de q: 5\n",
            "Cortes: 2\n",
            "Valor de q: 1\n",
            "Cortes: 1\n",
            "Valor de q: 17\n",
            "Cortes: 6\n",
            "Valor de q: 1\n",
            "Cortes: 1\n",
            "Valor de q: 5\n",
            "Cortes: 2\n",
            "Valor de q: 1\n",
            "Cortes: 1\n",
            "Valor de q: 8\n",
            "Cortes: 3\n",
            "Valor de q: 1\n",
            "Cortes: 1\n",
            "Valor de q: 5\n",
            "Cortes: 2\n",
            "Valor de q: 1\n",
            "Cortes: 1\n",
            "Valor de q: 10\n",
            "Cortes: 2\n",
            "Valor de q: 1\n",
            "Cortes: 1\n",
            "Valor de q: 5\n",
            "Cortes: 2\n",
            "Valor de q: 1\n",
            "Cortes: 1\n",
            "Valor de q: 8\n",
            "Cortes: 3\n",
            "Valor de q: 1\n",
            "Cortes: 1\n",
            "Valor de q: 5\n",
            "Cortes: 2\n",
            "Valor de q: 1\n",
            "Cortes: 1\n",
            "Valor de q: 13\n",
            "Cortes: 2\n",
            "Valor de q: 1\n",
            "Cortes: 1\n",
            "Valor de q: 5\n",
            "Cortes: 2\n",
            "Valor de q: 1\n",
            "Cortes: 1\n",
            "Valor de q: 8\n",
            "Cortes: 3\n",
            "Valor de q: 1\n",
            "Cortes: 1\n",
            "Valor de q: 5\n",
            "Cortes: 2\n",
            "Valor de q: 1\n",
            "Cortes: 1\n",
            "Valor de q: 10\n",
            "Cortes: 2\n",
            "Valor de q: 1\n",
            "Cortes: 1\n",
            "Valor de q: 5\n",
            "Cortes: 2\n",
            "Valor de q: 1\n",
            "Cortes: 1\n",
            "Valor de q: 8\n",
            "Cortes: 3\n",
            "Valor de q: 1\n",
            "Cortes: 1\n",
            "Valor de q: 5\n",
            "Cortes: 2\n",
            "Valor de q: 1\n",
            "Cortes: 1\n",
            "Valor de q: 22\n",
            "Cortes: 2\n",
            "\n",
            "Ganancia maximizada: 22\n",
            "Llamadas recursivas: 256\n",
            "Cortes: 2\n"
          ]
        }
      ]
    },
    {
      "cell_type": "code",
      "source": [
        "arr = [1, 5, 8, 9, 10, 17, 17, 20]\n",
        "size = len(arr)\n",
        "precio, cortes = extendedRodCut(arr, size, True)\n",
        "print(f'\\nGanancia maximizada: {precio}')\n",
        "print(f'\\nCortes: {cortes}')"
      ],
      "metadata": {
        "colab": {
          "base_uri": "https://localhost:8080/"
        },
        "id": "wErLfXxGE5uT",
        "outputId": "1d0a3d94-a277-4a76-8e94-f6ee76497c5c"
      },
      "execution_count": 6,
      "outputs": [
        {
          "output_type": "stream",
          "name": "stdout",
          "text": [
            "Valor de q: 1\n",
            "Cortes: 0\n",
            "valor del subproblema 1: 1\n",
            "Valor de q: 2\n",
            "Cortes: 0\n",
            "Valor de q: 5\n",
            "Cortes: 1\n",
            "valor del subproblema 2: 5\n",
            "Valor de q: 6\n",
            "Cortes: 0\n",
            "Valor de q: 8\n",
            "Cortes: 2\n",
            "valor del subproblema 3: 8\n",
            "Valor de q: 9\n",
            "Cortes: 0\n",
            "Valor de q: 10\n",
            "Cortes: 1\n",
            "valor del subproblema 4: 10\n",
            "Valor de q: 11\n",
            "Cortes: 0\n",
            "Valor de q: 13\n",
            "Cortes: 1\n",
            "valor del subproblema 5: 13\n",
            "Valor de q: 14\n",
            "Cortes: 0\n",
            "Valor de q: 15\n",
            "Cortes: 1\n",
            "Valor de q: 16\n",
            "Cortes: 2\n",
            "Valor de q: 17\n",
            "Cortes: 5\n",
            "valor del subproblema 6: 17\n",
            "Valor de q: 18\n",
            "Cortes: 0\n",
            "valor del subproblema 7: 18\n",
            "Valor de q: 19\n",
            "Cortes: 0\n",
            "Valor de q: 22\n",
            "Cortes: 1\n",
            "valor del subproblema 8: 22\n",
            "\n",
            "Ganancia maximizada: 22\n",
            "\n",
            "Cortes: 1\n"
          ]
        }
      ]
    },
    {
      "cell_type": "markdown",
      "source": [
        "## 2.1. Descripción del algoritmo\n",
        "\n",
        "Se crea un vector de ceros en el que se almacenarán los resultados. Luego, por cada iteración se creará una variable $q=-∞$ que se usará para comparar después. r[0] valdrá 0 porque una varilla de largo 0 no entrega ganancia, por lo que las iteraciones comienzan en 1. Se itera sobre otra variable, con la que, usando la primera, se opera sobre el arreglo de entrada: suma el valor de arr[i] con el de r[j-i-1], que es el arreglo de resultados, y esa suma la compara con el valor de $q$ para almacenar el máximo entre ellos. Cuando almacena la suma máxima, también asigna el valor de $i$ al arreglo en la posición s[i], que guarda los cortes necesarios.\n",
        "\n",
        "Finalmente, el algoritmo entrega como resultado el último elemento de los arreglos r y s."
      ],
      "metadata": {
        "id": "xU2sRCzIYQ3W"
      }
    },
    {
      "cell_type": "markdown",
      "source": [
        "# 4. Correctitud implementación Bottom-Up\n",
        "\n",
        "_Teorema: el algoritmo Rod Cutting en su implementación Bottom-Up entrega correctamente el valor que maximiza el precio de cortar una varilla de largo $n$_.\n",
        "\n",
        "**Caso base**: con $n=0$ el algoritmo retorna 0, que representa que el largo 0 tiene un valor 0.\n",
        "\n",
        "**Caso general**: antes de la iteración $j+1$, los resultados anteriores están almacenados en $r$ correctamente. Durante la iteración se resuelven los casos $P_1+r_j$, $P_2+r_{j-1}$, ..., $P_{j-1}+r_1$, donde se escoge correctamente la suma mayor y se almacena en $r[j+1]$ para su posterior uso en la iteración $j+2$."
      ],
      "metadata": {
        "id": "hQFRupKXyWQD"
      }
    },
    {
      "cell_type": "markdown",
      "source": [
        "# 5. Tiempo de ejecución\n",
        "\n",
        "Se puede notar en la implementación Bottom-Up que hay 2 ciclos _for_: uno que va desde 1 hasta n y otro desde 1 hasta el contador del ciclo externo. La combinación de ambos forma una serie aritmética de la siguiente forma:\n",
        "\n",
        "$∑\\limits_{j=1}^nj \\cdot c$\n",
        "\n",
        "Al desarrollar esta serie obtenemos $\\frac{n(n-1)}{2}$ lo que implica una complejidad temporal $O(n^2)$."
      ],
      "metadata": {
        "id": "BF6DiEM94wFU"
      }
    },
    {
      "cell_type": "markdown",
      "source": [
        "# 6. Experimentos"
      ],
      "metadata": {
        "id": "92_qBL2H6Wc-"
      }
    },
    {
      "cell_type": "markdown",
      "source": [
        "## 6.1. Comparación del tiempo de ejecución de ambas implementaciones"
      ],
      "metadata": {
        "id": "XSTGviZ-6Yue"
      }
    },
    {
      "cell_type": "code",
      "source": [
        "import datetime\n",
        "import matplotlib.pyplot as plt\n",
        "import random\n",
        "from math import log\n",
        "from timeit import repeat\n",
        "\n",
        "%matplotlib inline"
      ],
      "metadata": {
        "id": "s7o_uI76tP8E"
      },
      "execution_count": 7,
      "outputs": []
    },
    {
      "cell_type": "code",
      "source": [
        "def cutrod_instance_gen(n):\n",
        "    A = list()\n",
        "    prev = 0\n",
        "    for i in range(n):\n",
        "        r = random.randint(0, 10)\n",
        "        A.append(prev+r)\n",
        "        prev += r\n",
        "    return A"
      ],
      "metadata": {
        "id": "Lcaq5MxKbG_d"
      },
      "execution_count": 8,
      "outputs": []
    },
    {
      "cell_type": "code",
      "source": [
        "x = []\n",
        "y = []\n",
        "\n",
        "x2 = []\n",
        "y2 = []\n",
        "\n",
        "# Recomiendo no aumentar el rango, porque el tiempo de ejecución se dispara\n",
        "# ,uy rápido (con un rango hasta 50 se estaba demorando más de 1 hora así que\n",
        "# lo detuve). La versión dinámica es menos compleja, por lo que en el siguiente\n",
        "# experimento aumento mucho el rango para obtener un mejor gráfico\n",
        "for n in range(5,20):\n",
        "    a = cutrod_instance_gen(n)\n",
        "    t = repeat(setup=\"from __main__ import rodCutN\", stmt=f\"rodCutN({a}, {len(a)})\", repeat=1, number=10)\n",
        "    x.append(n)\n",
        "    y.append(t)\n",
        "\n",
        "for n2 in range(5,20):\n",
        "    a2 = cutrod_instance_gen(n)\n",
        "    t2 = repeat(setup=\"from __main__ import extendedRodCut\", stmt=f\"extendedRodCut({a2}, {len(a2)})\", repeat=1, number=10)\n",
        "    x2.append(n2)\n",
        "    y2.append(t2)\n",
        "\n",
        "plt.plot(x, y)\n",
        "plt.plot(x2, y2)\n",
        "plt.legend([\"Recursivo\", \"Dinámico\"])\n",
        "\n",
        "plt.xlabel('n')\n",
        "plt.ylabel('time in ms')\n",
        "plt.title(\"Rod Cutting recursivo vs Rod Cutting programación dinámica\")\n",
        "\n",
        "plt.grid()\n",
        "plt.show()"
      ],
      "metadata": {
        "colab": {
          "base_uri": "https://localhost:8080/",
          "height": 295
        },
        "id": "sRblMrW1tNI_",
        "outputId": "5e7f2ff6-4d40-4285-99ee-cd03b70f9cc8"
      },
      "execution_count": 9,
      "outputs": [
        {
          "output_type": "display_data",
          "data": {
            "text/plain": [
              "<Figure size 432x288 with 1 Axes>"
            ],
            "image/png": "[encoded data removed]"
          },
          "metadata": {
            "needs_background": "light"
          }
        }
      ]
    },
    {
      "cell_type": "markdown",
      "source": [
        "Se puede apreciar en el gráfico que la implementación recursiva crece notoriamente más rápido que la dinámica: la primera es de orden exponencial y la segunda es polinómica."
      ],
      "metadata": {
        "id": "OZzS3FJ3Gsbu"
      }
    },
    {
      "cell_type": "markdown",
      "source": [
        "## 6.2. Cantidad de problemas a resolver con Bottom-Up a medida que crece $n$"
      ],
      "metadata": {
        "id": "62hky1ll6gMA"
      }
    },
    {
      "cell_type": "code",
      "source": [
        "def counterRodCut(arr, size, counter, verbose=False):\n",
        "    r = [0 for x in range(size+1)] # Lista de resultados\n",
        "    s = [0 for x in range(size+1)] # Lista de resultados\n",
        "\n",
        "    # Bloque for resuelve cada subproblema de tamaño j, con j=1, 2, ..., n\n",
        "    # en orden creciente. Se almacena el valor calculado en la posición r[j]\n",
        "    # para ser usado en el siguiente cálculo de subproblema y se almacena el\n",
        "    # número de cortes para maximizar el valor\n",
        "    for j in range(1, size+1):\n",
        "        q = float('-inf')\n",
        "        for i in range(j):\n",
        "            tmp = arr[i] + r[j-i-1]\n",
        "            counter += 1\n",
        "            if q < tmp:\n",
        "                q = tmp\n",
        "                s[j] = i\n",
        "                if verbose:\n",
        "                    print(f'Valor de q: {q}')\n",
        "                    print(f'Cortes: {s[j]}')\n",
        "        r[j] = q\n",
        "        if verbose:\n",
        "            print(f'valor del subproblema {j}: {r[j]}')\n",
        "    return counter"
      ],
      "metadata": {
        "id": "hLn-4FCMI75l"
      },
      "execution_count": 10,
      "outputs": []
    },
    {
      "cell_type": "code",
      "source": [
        "x = [n for n in range(5, 500)]\n",
        "y1 = [n*(n-1)/2 for n in range(5, 500)]\n",
        "y = []\n",
        "\n",
        "for n in range(5, 500):\n",
        "    a = cutrod_instance_gen(n)\n",
        "    c = counterRodCut(a, len(a), 0)\n",
        "    y.append(c)\n",
        "\n",
        "plt.plot(x, y)\n",
        "plt.plot(x, y1)\n",
        "plt.legend([\"counterRodCut\", \"Caso teórico\"])\n",
        "\n",
        "plt.xlabel(\"n\")\n",
        "plt.ylabel(\"Número de operaciones\")\n",
        "plt.show()"
      ],
      "metadata": {
        "id": "fncLP3fdbxn0",
        "colab": {
          "base_uri": "https://localhost:8080/",
          "height": 279
        },
        "outputId": "c073728b-e530-4684-b583-ca17e14ebb2d"
      },
      "execution_count": 11,
      "outputs": [
        {
          "output_type": "display_data",
          "data": {
            "text/plain": [
              "<Figure size 432x288 with 1 Axes>"
            ],
            "image/png": "[encoded data removed]"
          },
          "metadata": {
            "needs_background": "light"
          }
        }
      ]
    },
    {
      "cell_type": "markdown",
      "source": [
        "Se puede notar en el gráfico que la cantidad de operaciones que realiza la implementación dinámica de _Rod Cutting_ calza con su tiempo de ejecución teórico: $\\frac{n(n-1)}{2}$, o lo mismo que $O(n^2)$."
      ],
      "metadata": {
        "id": "l49eDU0vG8G_"
      }
    }
  ]
}