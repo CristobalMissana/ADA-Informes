{
  "nbformat": 4,
  "nbformat_minor": 0,
  "metadata": {
    "colab": {
      "provenance": [],
      "collapsed_sections": []
    },
    "kernelspec": {
      "name": "python3",
      "display_name": "Python 3"
    },
    "language_info": {
      "name": "python"
    }
  },
  "cells": [
    {
      "cell_type": "markdown",
      "source": [
        "# 1. _Counting Sort_"
      ],
      "metadata": {
        "id": "dPtIas62cSMn"
      }
    },
    {
      "cell_type": "markdown",
      "source": [
        "## 1.1 Descripción del problema\n",
        "\n",
        "Se quiere ordenar un arreglo $A$.\n",
        "\n",
        "**Entrada**: El algoritmo recibe un arreglo $A$ de $n$ elementos enteros positivos, con $n \\in \\mathbb{N}$.\n",
        "\n",
        "**Salida**: El algoritmo retorna un arreglo con los elementos en orden ascendente."
      ],
      "metadata": {
        "id": "igldKQN2ceie"
      }
    },
    {
      "cell_type": "markdown",
      "source": [
        "## 1.2. Implementación del algoritmo"
      ],
      "metadata": {
        "id": "6hzrxUMQdU8x"
      }
    },
    {
      "cell_type": "code",
      "execution_count": 1,
      "metadata": {
        "id": "eU6cP1jYb80S"
      },
      "outputs": [],
      "source": [
        "def countSort(arr, verbose=False):\n",
        "    max_element = int(max(arr))\n",
        "    min_element = int(min(arr))\n",
        "    range_of_elements = max_element - min_element + 1\n",
        "\n",
        "    # Arreglo contador con sus elementos inicializados en 0 de largo k+1\n",
        "    count_arr = [0 for _ in range(range_of_elements)] # arreglo contador\n",
        "    output_arr = [0 for _ in range(len(arr))] # arreglo de salida\n",
        " \n",
        "    # Se llena el arreglo contador\n",
        "    for i in range(0, len(arr)):\n",
        "        count_arr[arr[i]-min_element] += 1\n",
        "        if verbose:\n",
        "            print(f'Iteración {i+1} del arreglo contador: {count_arr}')\n",
        " \n",
        "    # Se genera el arreglo que contiene las posiciones de los elementos para\n",
        "    # Agregarlos al arreglo de salida\n",
        "    for i in range(1, len(count_arr)):\n",
        "        count_arr[i] += count_arr[i-1]\n",
        "    \n",
        "    if verbose:\n",
        "        print(f'\\nArreglo contador (posiciones de elementos): {count_arr}\\n')\n",
        " \n",
        "    # Se llena el arreglo de salida\n",
        "    j = 0\n",
        "    for i in range(len(arr)-1, -1, -1):\n",
        "        j += 1\n",
        "        output_arr[count_arr[arr[i] - min_element] - 1] = arr[i]\n",
        "        count_arr[arr[i] - min_element] -= 1\n",
        "        if verbose:\n",
        "            print(f'Iteración {j} del arreglo output: {output_arr}')\n",
        " \n",
        "    # El arreglo de entrada se sobreescribe con los elementos del de salida\n",
        "    for i in range(0, len(arr)):\n",
        "        arr[i] = output_arr[i]\n",
        " \n",
        "    return arr"
      ]
    },
    {
      "cell_type": "code",
      "source": [
        "arr = [6, 0, 2, 0, 1, 3, 4, 6, 1, 3, 2]\n",
        "print(\"Input:\", arr, \"\\n\")\n",
        "salida = countSort(arr)\n",
        "print(\"Output\",salida)"
      ],
      "metadata": {
        "colab": {
          "base_uri": "https://localhost:8080/"
        },
        "id": "pD6uwe4w0VBi",
        "outputId": "1b2e4d33-0689-4f1d-e549-13fbbff2f75f"
      },
      "execution_count": 2,
      "outputs": [
        {
          "output_type": "stream",
          "name": "stdout",
          "text": [
            "Input: [6, 0, 2, 0, 1, 3, 4, 6, 1, 3, 2] \n",
            "\n",
            "Output [0, 0, 1, 1, 2, 2, 3, 3, 4, 6, 6]\n"
          ]
        }
      ]
    },
    {
      "cell_type": "markdown",
      "source": [
        "## 1.3. Descripción del algoritmo\n",
        "\n",
        "El algoritmo recibe un arreglo $A$ de entrada. Se crea un arreglo $C$ auxiliar que servirá como contador de los elementos de $A$. Por cada elemento $x$ en $A$, en $C$ se cuentan los elementos menores o iguales a $x$.\n",
        "\n",
        "Luego, se calculan las posiciones de los elementos a agregar al arreglo de salida $B$ sumando los contadores de $C$ desde la posición 1 de manera acumulativa (C[i] += C[i-1]).\n",
        "\n",
        "Finalmente, recorriendo $A$ al revés se agregan los elementos directamente a la posición que les corresponde (según las calculadas en $C$), inmediatamente seguido por una resta al contador en $C$."
      ],
      "metadata": {
        "id": "W9_oUwp40FP0"
      }
    },
    {
      "cell_type": "markdown",
      "source": [
        "## 1.4. Desarrollo del algoritmo con opción `verbose`"
      ],
      "metadata": {
        "id": "EnEoXqy70ITf"
      }
    },
    {
      "cell_type": "code",
      "source": [
        "arr = [6, 0, 2, 0, 1, 3, 4, 6, 1, 3, 2]\n",
        "print(\"Input:\", arr, \"\\n\")\n",
        "salida = countSort(arr, True)\n",
        "print(\"\\nOutput\",salida)"
      ],
      "metadata": {
        "colab": {
          "base_uri": "https://localhost:8080/"
        },
        "id": "qoFrJtfluS8P",
        "outputId": "165f4195-db08-460d-c224-a49b6903fe77"
      },
      "execution_count": 3,
      "outputs": [
        {
          "output_type": "stream",
          "name": "stdout",
          "text": [
            "Input: [6, 0, 2, 0, 1, 3, 4, 6, 1, 3, 2] \n",
            "\n",
            "Iteración 1 del arreglo contador: [0, 0, 0, 0, 0, 0, 1]\n",
            "Iteración 2 del arreglo contador: [1, 0, 0, 0, 0, 0, 1]\n",
            "Iteración 3 del arreglo contador: [1, 0, 1, 0, 0, 0, 1]\n",
            "Iteración 4 del arreglo contador: [2, 0, 1, 0, 0, 0, 1]\n",
            "Iteración 5 del arreglo contador: [2, 1, 1, 0, 0, 0, 1]\n",
            "Iteración 6 del arreglo contador: [2, 1, 1, 1, 0, 0, 1]\n",
            "Iteración 7 del arreglo contador: [2, 1, 1, 1, 1, 0, 1]\n",
            "Iteración 8 del arreglo contador: [2, 1, 1, 1, 1, 0, 2]\n",
            "Iteración 9 del arreglo contador: [2, 2, 1, 1, 1, 0, 2]\n",
            "Iteración 10 del arreglo contador: [2, 2, 1, 2, 1, 0, 2]\n",
            "Iteración 11 del arreglo contador: [2, 2, 2, 2, 1, 0, 2]\n",
            "\n",
            "Arreglo contador (posiciones de elementos): [2, 4, 6, 8, 9, 9, 11]\n",
            "\n",
            "Iteración 1 del arreglo output: [0, 0, 0, 0, 0, 2, 0, 0, 0, 0, 0]\n",
            "Iteración 2 del arreglo output: [0, 0, 0, 0, 0, 2, 0, 3, 0, 0, 0]\n",
            "Iteración 3 del arreglo output: [0, 0, 0, 1, 0, 2, 0, 3, 0, 0, 0]\n",
            "Iteración 4 del arreglo output: [0, 0, 0, 1, 0, 2, 0, 3, 0, 0, 6]\n",
            "Iteración 5 del arreglo output: [0, 0, 0, 1, 0, 2, 0, 3, 4, 0, 6]\n",
            "Iteración 6 del arreglo output: [0, 0, 0, 1, 0, 2, 3, 3, 4, 0, 6]\n",
            "Iteración 7 del arreglo output: [0, 0, 1, 1, 0, 2, 3, 3, 4, 0, 6]\n",
            "Iteración 8 del arreglo output: [0, 0, 1, 1, 0, 2, 3, 3, 4, 0, 6]\n",
            "Iteración 9 del arreglo output: [0, 0, 1, 1, 2, 2, 3, 3, 4, 0, 6]\n",
            "Iteración 10 del arreglo output: [0, 0, 1, 1, 2, 2, 3, 3, 4, 0, 6]\n",
            "Iteración 11 del arreglo output: [0, 0, 1, 1, 2, 2, 3, 3, 4, 6, 6]\n",
            "\n",
            "Output [0, 0, 1, 1, 2, 2, 3, 3, 4, 6, 6]\n"
          ]
        }
      ]
    },
    {
      "cell_type": "markdown",
      "source": [
        "# 2. RadixSort"
      ],
      "metadata": {
        "id": "fRUy8dyy4aJH"
      }
    },
    {
      "cell_type": "markdown",
      "source": [
        "## 2.1. Implementación del algoritmo"
      ],
      "metadata": {
        "id": "RIzeJrLI4ca4"
      }
    },
    {
      "cell_type": "code",
      "source": [
        "def expCountSort(arr, exp):\n",
        "    n = len(arr)\n",
        "    out = [0] * (n)\n",
        "    count = [0] * (10)\n",
        "\n",
        "    for i in range(0, n):\n",
        "        index = arr[i] // exp\n",
        "        count[index % 10] += 1\n",
        " \n",
        "    for i in range(1, 10):\n",
        "        count[i] += count[i - 1]\n",
        " \n",
        "    i = n - 1\n",
        "    while i >= 0:\n",
        "        index = arr[i] // exp\n",
        "        out[count[index % 10] - 1] = arr[i]\n",
        "        count[index % 10] -= 1\n",
        "        i -= 1\n",
        " \n",
        "    i = 0\n",
        "    for i in range(0, len(arr)):\n",
        "        arr[i] = out[i]"
      ],
      "metadata": {
        "id": "YmPfDkQ77U_f"
      },
      "execution_count": 4,
      "outputs": []
    },
    {
      "cell_type": "code",
      "source": [
        "def radixSort(arr, verbose=False):\n",
        "    max1 = max(arr)\n",
        " \n",
        "    # El exponente sirve para calcular el valor de cada dígito de los elementos\n",
        "    exp = 1\n",
        "    j = 0\n",
        "    while max1 / exp >= 1:\n",
        "        j += 1\n",
        "        # Se aplica el algoritmo de ordenamiento para comparar por dígitos\n",
        "        expCountSort(arr, exp)\n",
        "        if verbose:\n",
        "            print(f'Iteración {j}: {arr}')\n",
        "        exp *= 10"
      ],
      "metadata": {
        "id": "z1BlKBvR4hAw"
      },
      "execution_count": 5,
      "outputs": []
    },
    {
      "cell_type": "markdown",
      "source": [
        "## 2.2. Descripción del algoritmo\n",
        "\n",
        "_Radix Sort_ sirve para ordenar conjuntos de datos aplicando varios criterios uno después del otro. Así, por ejemplo, se puede ordenar una tabla por Nombre del alumno, luego por curso y finalmente por promedio final.\n",
        "\n",
        "Para ello, este algoritmo hace uso de algun otro algoritmo de ordenamiento en cada una de sus iteraciones. En este caso, _Counting Sort_ adaptado para ordenar dígitos del 0 al 9.\n",
        "\n",
        "En su primera iteración, _Radix Sort_ ordena números según su ultimo dígito, en su segunda por el dígito de las decenas, en la siguiente el de las centenas y así sucesivamente."
      ],
      "metadata": {
        "id": "tzPWS4wr_LHw"
      }
    },
    {
      "cell_type": "markdown",
      "source": [
        "## 2.3. Desarrollo del algoritmo con opción `verbose`"
      ],
      "metadata": {
        "id": "nIOD3elJAzXw"
      }
    },
    {
      "cell_type": "code",
      "source": [
        "arr = [170, 45, 75, 90, 802, 24, 2, 66]\n",
        "print(\"Input:\", arr, \"\\n\")\n",
        "radixSort(arr, True)\n",
        "print(\"\\nOutput\", arr)"
      ],
      "metadata": {
        "colab": {
          "base_uri": "https://localhost:8080/"
        },
        "id": "Jvy4EtiO74sO",
        "outputId": "84945022-e35b-41b5-8877-52a0e598fde9"
      },
      "execution_count": 6,
      "outputs": [
        {
          "output_type": "stream",
          "name": "stdout",
          "text": [
            "Input: [170, 45, 75, 90, 802, 24, 2, 66] \n",
            "\n",
            "Iteración 1: [170, 90, 802, 2, 24, 45, 75, 66]\n",
            "Iteración 2: [802, 2, 24, 45, 66, 170, 75, 90]\n",
            "Iteración 3: [2, 24, 45, 66, 75, 90, 170, 802]\n",
            "\n",
            "Output [2, 24, 45, 66, 75, 90, 170, 802]\n"
          ]
        }
      ]
    },
    {
      "cell_type": "markdown",
      "source": [
        "# 3. Correctitudes"
      ],
      "metadata": {
        "id": "nH5Gd8_yAQum"
      }
    },
    {
      "cell_type": "markdown",
      "source": [
        "## 3.1. _Counting Sort_\n",
        "\n",
        "_Hipótesis inductiva_: _Counting Sort_ es estable en arreglos de no más de $k$ elementos.\n",
        "\n",
        "**Caso base**: con $n = 1$, el arreglo A está trivialmente ordenado, ya que contiene un punico elemento.\n",
        "\n",
        "**Caso general**: considerando un arreglo de $k+1$ elementos, éste tiene un último elemento y es el mayor. Con el arreglo de tamaño $k$ (eliminando el elemento en la posición $k+1$) se cumple, por la hipótesis inductiva, que el algoritmo es estable.\n",
        "\n",
        "Al agregar el elemento $k+1$, éste no puede ser posicionado a la izquierda del arreglo, porque al construir el arreglo $B$, se recorre en orden descendente, por lo que al agregar el mayor elemento, éste será añadido en la posición de más a la derecha. Además, esto es seguro, ya que si existen elementos con el mismo valor, C[A[i]] se reduce en 1, lo que fuerza al siguiente elemento a ser agregado a la izquierda del reciente. "
      ],
      "metadata": {
        "id": "WmQ1EuMwAdZG"
      }
    },
    {
      "cell_type": "markdown",
      "source": [
        "## 3.2. _Radix Sort_\n",
        "\n",
        "**Caso base**: en el caso $d=1$ se cumple que _Radix Sort_ usa un algoritmo estable para ordenar dígitos en el rango $[0,...,9]$. Así, con $x_i < y_i$, $x$ aparecerá antes que $y$, y con $x_i = y_i$ sus posiciones no cambiarán porque el algoritmo que se usa es estable.\n",
        "\n",
        "**Caso general**: se asume que _Radix Sort_ ordenó correctamente después de $i-1 < d$ iteraciones, los elementos $x_{i-1}$ están ordenados de manera ascendente.\n",
        "\n",
        "En el caso $x_i < y_i$ existen 2 casos:\n",
        "\n",
        "1. El dígito $i$ de $x$ es menor que el dígito $i$ de $y$. _Radix Sort_ pondrá $x$ antes que $y$ correctamente.\n",
        "2. El dígito $i$ de $x$ es igual que el dígito $i$ de $y$. Por la hipótesis inductiva, $x_{i-1} < y_{i-1}$ por lo que $x$ aparece antes que $y$ y como los dígitos $i$ de ambos elementos son iguales, dichos elementos se mantendrán en orden."
      ],
      "metadata": {
        "id": "VFFovXgsCIac"
      }
    },
    {
      "cell_type": "markdown",
      "source": [
        "# 4. Tiempos de ejecución"
      ],
      "metadata": {
        "id": "Bz5hsWRGCKrA"
      }
    },
    {
      "cell_type": "markdown",
      "source": [
        "## 4.1. _Counting Sort_\n",
        "\n",
        "El algoritmo itera sobre el arreglo de entrada una vez, por lo que tiene complejidad $O(n)$. Luego itera sobre el arreglo de contadores, que posee complejidad $O(k)$. Así, _Counting Sort_ tiene complejidad temporal $O(n+k)$."
      ],
      "metadata": {
        "id": "ZvcuWm0dCUGv"
      }
    },
    {
      "cell_type": "markdown",
      "source": [
        "## 4.2. _Radix Sort_\n",
        "\n",
        "Este algoritmo tiene complejidad de la forma $O(d \\cdot (n+b))$, con $b$ el número de posibles valores que pueden tomar los dígitos y $d$ la cantidad de pasadas que realiza el algoritmo.\n",
        "\n",
        "En el mejor caso, los valores a ordenar tienen la misma cantidad de dígitos, por lo que su complejidad es $\\Omega(d \\cdot (n+b))$. Si $b=O(n)$, $\\Omega(nb)$.\n",
        "\n",
        "En el peor caso, los valores tienen el mismo número de dígitos excepto uno que tiene muchos más. Si el número de dígitos del número más largo es $n$, la complejidad será $O(n^2)$."
      ],
      "metadata": {
        "id": "68kyEhrKCWzQ"
      }
    },
    {
      "cell_type": "markdown",
      "source": [
        "# 5. Experimentos"
      ],
      "metadata": {
        "id": "PY4fH6X6CZFp"
      }
    },
    {
      "cell_type": "code",
      "source": [
        "import datetime\n",
        "from math import log\n",
        "import matplotlib.pyplot as plt\n",
        "import random\n",
        "from timeit import repeat\n",
        "\n",
        "%matplotlib inline"
      ],
      "metadata": {
        "id": "udJQeWh_Uj9Z"
      },
      "execution_count": 7,
      "outputs": []
    },
    {
      "cell_type": "code",
      "source": [
        "def insertionSort(b):\n",
        "    for i in range(1, len(b)):\n",
        "        up = b[i]\n",
        "        j = i - 1\n",
        "        while j >= 0 and b[j] > up: \n",
        "            b[j + 1] = b[j]\n",
        "            j -= 1\n",
        "        b[j + 1] = up     \n",
        "    return b     \n",
        "              \n",
        "def bucketSort(x):\n",
        "    # Asumiendo que los valores de entrada están en el rangoo [100, 999]\n",
        "    x = [i / 1000 for i in x]\n",
        "    arr = []\n",
        "    slot_num = 10\n",
        "    for i in range(slot_num):\n",
        "        arr.append([])\n",
        "\n",
        "    for j in x:\n",
        "        index_b = int(slot_num * j) \n",
        "        arr[index_b].append(j)\n",
        "\n",
        "    for i in range(slot_num):\n",
        "        arr[i] = insertionSort(arr[i])\n",
        "\n",
        "    k = 0\n",
        "    for i in range(slot_num):\n",
        "        for j in range(len(arr[i])):\n",
        "            x[k] = arr[i][j]\n",
        "            k += 1\n",
        "    return x"
      ],
      "metadata": {
        "id": "QZw3TZ9_UKQg"
      },
      "execution_count": 8,
      "outputs": []
    },
    {
      "cell_type": "markdown",
      "source": [
        "### 5.1. _Counting Sort_ vs _Bucket Sort_"
      ],
      "metadata": {
        "id": "GvQPKRiJY_0o"
      }
    },
    {
      "cell_type": "code",
      "source": [
        "x = []\n",
        "y = []\n",
        "\n",
        "x2 = []\n",
        "y2 = []\n",
        "\n",
        "for n in range(5,500):\n",
        "    a = random.sample(range(100, 1000), n)\n",
        "    t = repeat(setup=\"from __main__ import countSort\", stmt=f\"countSort({a})\", repeat=1, number=10)\n",
        "    x.append(n)\n",
        "    y.append(t)\n",
        "\n",
        "for n2 in range(5,500):\n",
        "    a2 = random.sample(range(100, 1000), n2)\n",
        "    t2 = repeat(setup=\"from __main__ import bucketSort, insertionSort\", stmt=f\"bucketSort({a2})\", repeat=1, number=10)\n",
        "    x2.append(n2)\n",
        "    y2.append(t2)\n",
        "\n",
        "plt.plot(x, y)\n",
        "plt.plot(x2, y2)\n",
        "plt.legend([\"Count Sort\", \"Bucket Sort\"])\n",
        "\n",
        "plt.xlabel('n')\n",
        "plt.ylabel('time in ms')\n",
        "plt.title(\"Count Sort algorithm vs Bucket Sort algorithm\")\n",
        "\n",
        "plt.grid()\n",
        "plt.show()"
      ],
      "metadata": {
        "colab": {
          "base_uri": "https://localhost:8080/",
          "height": 295
        },
        "id": "PoxFI-JYUcUA",
        "outputId": "49aba6be-63a2-46fc-a8e8-0a0f9fc2b6ee"
      },
      "execution_count": 11,
      "outputs": [
        {
          "output_type": "display_data",
          "data": {
            "text/plain": [
              "<Figure size 432x288 with 1 Axes>"
            ],
            "image/png": "[encoded data removed]"
          },
          "metadata": {
            "needs_background": "light"
          }
        }
      ]
    },
    {
      "cell_type": "markdown",
      "source": [
        "Como se puede apreciar en el gráfico, _Bucket Sort_ es más eficiente en listas de más o menos 80 elementos o menos, mientras que en listas de más cantidad de elementos _Count Sort_ se vuelve más eficiente."
      ],
      "metadata": {
        "id": "tQiL63W0Q2R-"
      }
    },
    {
      "cell_type": "markdown",
      "source": [
        "### 5.2. _Radix Sort_ vs _Bucket Sort_"
      ],
      "metadata": {
        "id": "k-E3sPbSZIfh"
      }
    },
    {
      "cell_type": "code",
      "source": [
        "x = []\n",
        "y = []\n",
        "\n",
        "x2 = []\n",
        "y2 = []\n",
        "\n",
        "for n in range(5,500):\n",
        "    a = random.sample(range(100, 1000), n)\n",
        "    t = repeat(setup=\"from __main__ import radixSort, expCountSort\", stmt=f\"radixSort({a})\", repeat=1, number=10)\n",
        "    x.append(n)\n",
        "    y.append(t)\n",
        "\n",
        "for n2 in range(5,500):\n",
        "    a2 = random.sample(range(100, 1000), n2)\n",
        "    t2 = repeat(setup=\"from __main__ import bucketSort, insertionSort\", stmt=f\"bucketSort({a2})\", repeat=1, number=10)\n",
        "    x2.append(n2)\n",
        "    y2.append(t2)\n",
        "\n",
        "plt.plot(x, y)\n",
        "plt.plot(x2, y2)\n",
        "plt.legend([\"Radix Sort\", \"Bucket Sort\"])\n",
        "\n",
        "plt.xlabel('n')\n",
        "plt.ylabel('time in ms')\n",
        "plt.title(\"Radix Sort algorithm vs Bucket Sort algorithm\")\n",
        "\n",
        "plt.grid()\n",
        "plt.show()"
      ],
      "metadata": {
        "colab": {
          "base_uri": "https://localhost:8080/",
          "height": 295
        },
        "id": "6X7FCiWsZZk5",
        "outputId": "cd95c16e-17b0-4061-b471-97300a448712"
      },
      "execution_count": 13,
      "outputs": [
        {
          "output_type": "display_data",
          "data": {
            "text/plain": [
              "<Figure size 432x288 with 1 Axes>"
            ],
            "image/png": "[encoded data removed]"
          },
          "metadata": {
            "needs_background": "light"
          }
        }
      ]
    },
    {
      "cell_type": "markdown",
      "source": [
        "Al igual que pasa con _Count Sort_, _Radix Sort_ es más eficiente que _Bucket Sort_ desde listas de más o menos 230 elementos, según el gráfico. Se cumple, al igual que en el caso anterior, que _Bucket Sort_ es más eficiente en listas de pocos elementos."
      ],
      "metadata": {
        "id": "MJKTg4UGRLoT"
      }
    }
  ]
}