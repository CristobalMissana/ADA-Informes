{
  "nbformat": 4,
  "nbformat_minor": 0,
  "metadata": {
    "colab": {
      "provenance": [],
      "collapsed_sections": []
    },
    "kernelspec": {
      "name": "python3",
      "display_name": "Python 3"
    },
    "language_info": {
      "name": "python"
    }
  },
  "cells": [
    {
      "cell_type": "markdown",
      "source": [
        "# Árbol Binario de Búsqueda Óptimo"
      ],
      "metadata": {
        "id": "qoTW86J9CxaI"
      }
    },
    {
      "cell_type": "markdown",
      "source": [
        "Dado un arreglo ordenado keys[0.. n-1] de llaves de búsqueda y un arreglo freq[0.. n-1] de frecuencia de conteos, donde freq[i] es el número de búsquedas para keys[i], se debe construir un árbol binario de búsqueda de todas las keys de tal manera que el costo de cada búsqueda sea el menor posible.\n",
        "\n",
        "El costo de un nodo del BST es el nivel de dicho nodo multiplicado por su frecuencia. El nivel del nodo raíz es 1.\n",
        "\n",
        "**Entrada**: arreglo key[0.. n-1], freq[0.. n-1] y el número de nodos $n$.\n",
        "\n",
        "**Salida**: valor de la búsqueda minimizado."
      ],
      "metadata": {
        "id": "sc7cWfNzVSlo"
      }
    },
    {
      "cell_type": "markdown",
      "source": [
        "La función que define la optimización está dada por la siguiente fórmula:\n",
        "\n",
        "$optCost(i,j) = \\sum\\limits_{k=i}^{j}freq[k]+min_{r=i}^{j} \\left[optCost(i, r-1)+optCost(r+1, j)\\right]$"
      ],
      "metadata": {
        "id": "tdh2tUhBC2Va"
      }
    },
    {
      "cell_type": "code",
      "source": [
        "import networkx as nx\n",
        "from networkx.drawing.nx_agraph import graphviz_layout\n",
        "import sys"
      ],
      "metadata": {
        "id": "rpeFig4fWPR5"
      },
      "execution_count": 1,
      "outputs": []
    },
    {
      "cell_type": "code",
      "source": [
        "class Node:\n",
        "    def __init__(self, key, freq):\n",
        "        self.key = key\n",
        "        self.freq = freq\n",
        "\n",
        "    def __str__(self):\n",
        "        \"\"\"\n",
        "        >>> str(Node(1, 2))\n",
        "        'Node(key=1, freq=2)'\n",
        "        \"\"\"\n",
        "        return f\"Node(key={self.key}, freq={self.freq})\""
      ],
      "metadata": {
        "id": "2bxKgZb9mc0x"
      },
      "execution_count": 2,
      "outputs": []
    },
    {
      "cell_type": "code",
      "source": [
        "def print_binary_search_tree(root, key, i, j, parent, is_left, G):\n",
        "    if i > j or i < 0 or j > len(root) - 1:\n",
        "        return\n",
        "\n",
        "    node = root[i][j]\n",
        "    if parent == -1:  # root does not have a parent\n",
        "        #print(f\"{key[node]} is the root of the binary search tree.\")\n",
        "        if key[node] not in G.nodes:\n",
        "            G.add_node(key[node])   \n",
        "    elif is_left:\n",
        "        #print(f\"{key[node]} is the left child of key {parent}.\")\n",
        "        if key[node] not in G.nodes:\n",
        "            G.add_node(key[node])\n",
        "            G.add_edge(parent, key[node])\n",
        "    else:\n",
        "        #print(f\"{key[node]} is the right child of key {parent}.\")\n",
        "        if key[node] not in G.nodes:\n",
        "            G.add_node(key[node])\n",
        "            G.add_edge(parent, key[node])\n",
        "\n",
        "    print_binary_search_tree(root, key, i, node - 1, key[node], True, G)\n",
        "    print_binary_search_tree(root, key, node + 1, j, key[node], False, G)"
      ],
      "metadata": {
        "id": "BrrjHnmyma5r"
      },
      "execution_count": 3,
      "outputs": []
    },
    {
      "cell_type": "code",
      "source": [
        "def summ(freq, i, j):\n",
        "    s = 0\n",
        "    for k in range(i, j + 1):\n",
        "        s += freq[k]\n",
        "    return s"
      ],
      "metadata": {
        "id": "VjEdGmnRLFlL"
      },
      "execution_count": 4,
      "outputs": []
    },
    {
      "cell_type": "markdown",
      "source": [
        "# 1. Árbol Binario de Búsqueda Óptimo recursivo"
      ],
      "metadata": {
        "id": "-2-UjCzPUL8v"
      }
    },
    {
      "cell_type": "code",
      "execution_count": 5,
      "metadata": {
        "id": "hqghlJDFT_X5"
      },
      "outputs": [],
      "source": [
        "def optimalSearchTreeRec(freq, i, j, verbose=False):\n",
        "    # Sin elementos\n",
        "    if j < i:\n",
        "        return 0\n",
        "    # Único elemento\n",
        "    if j == i:\n",
        "        return freq[i]\n",
        "\n",
        "    # Get sum of freq[i], freq[i+1], ... freq[j]\n",
        "    fsum = summ(freq, i, j)\n",
        "    if verbose:\n",
        "        print(f'Suma: {fsum}')\n",
        "\n",
        "    # Initialize minimum value\n",
        "    Min = float(\"inf\")\n",
        "\n",
        "    for r in range(i, j + 1):\n",
        "        cost = (optimalSearchTreeRec(freq, i, r - 1, verbose) +\n",
        "                optimalSearchTreeRec(freq, r + 1, j, verbose))\n",
        "        if verbose:\n",
        "            print(f'cost: {cost}')\n",
        "        if cost < Min:\n",
        "            Min = cost\n",
        "        if verbose:\n",
        "            print(f'Costo mínimo: {Min+fsum}')\n",
        "\n",
        "    # Return minimum value\n",
        "    return Min + fsum"
      ]
    },
    {
      "cell_type": "markdown",
      "source": [
        "## 1.1. Descripción del algorimo\n",
        "\n",
        "Este algoritmo recibe el arreglo freq y la primera y última posición del arreglo keys. Primero compara si el arreglo tiene 0 o 1 elemento; en caso contrario, calcula la suma de todos los elementos entre las posiciones entregadas como input. Luego calcula el costo de los subarreglos izquierdo y derecho y almacena el mínimo entre ellos recursivamente. Finalmente retorna el valor mínimo más la suma del rango calculado antes del ciclo recursivo."
      ],
      "metadata": {
        "id": "cAOGkLZ6vNgB"
      }
    },
    {
      "cell_type": "code",
      "source": [
        "keys = [10, 12, 20]\n",
        "freq = [34, 8, 50]\n",
        "n = len(keys)\n",
        "print(\"Cost of Optimal BST is\", optimalSearchTreeRec(freq, 0, len(keys)-1))"
      ],
      "metadata": {
        "colab": {
          "base_uri": "https://localhost:8080/"
        },
        "id": "f-bkq8Q6yAfv",
        "outputId": "1ab73269-8ffb-432f-87b3-fcfc68dae178"
      },
      "execution_count": 6,
      "outputs": [
        {
          "output_type": "stream",
          "name": "stdout",
          "text": [
            "Cost of Optimal BST is 142\n"
          ]
        }
      ]
    },
    {
      "cell_type": "code",
      "source": [
        "keys = [10, 12, 20]\n",
        "freq = [34, 8, 50]\n",
        "n = len(keys)\n",
        "print(\"Cost of Optimal BST is\", optimalSearchTreeRec(freq, 0, len(keys)-1, True))"
      ],
      "metadata": {
        "colab": {
          "base_uri": "https://localhost:8080/"
        },
        "id": "eC_FuYWEF94p",
        "outputId": "e829c935-d77a-4f0f-aad9-adf1e90a5d92"
      },
      "execution_count": 7,
      "outputs": [
        {
          "output_type": "stream",
          "name": "stdout",
          "text": [
            "Suma: 92\n",
            "Suma: 58\n",
            "cost: 50\n",
            "Costo mínimo: 108\n",
            "cost: 8\n",
            "Costo mínimo: 66\n",
            "cost: 66\n",
            "Costo mínimo: 158\n",
            "cost: 84\n",
            "Costo mínimo: 158\n",
            "Suma: 42\n",
            "cost: 8\n",
            "Costo mínimo: 50\n",
            "cost: 34\n",
            "Costo mínimo: 50\n",
            "cost: 50\n",
            "Costo mínimo: 142\n",
            "Cost of Optimal BST is 142\n"
          ]
        }
      ]
    },
    {
      "cell_type": "markdown",
      "source": [
        "# 2. Árbol Binario de Búsqueda Óptimo bottom-up"
      ],
      "metadata": {
        "id": "4ruEQXSXUZ6V"
      }
    },
    {
      "cell_type": "code",
      "source": [
        "def optimalSearchTreeDin(nodes, visualize=False, verbose=False):\n",
        "    nodes.sort(key=lambda node: node.key)\n",
        "\n",
        "    n = len(nodes)\n",
        "\n",
        "    keys = [nodes[i].key for i in range(n)]\n",
        "    freqs = [nodes[i].freq for i in range(n)]\n",
        "\n",
        "    dp = [[freqs[i] if i == j else 0 for j in range(n)] for i in range(n)]\n",
        "    sum = [[freqs[i] if i == j else 0 for j in range(n)] for i in range(n)]\n",
        "    root = [[i if i == j else 0 for j in range(n)] for i in range(n)]\n",
        "\n",
        "    for L in range(2, n + 1):\n",
        "        if verbose:\n",
        "            print(f'\\nIteración n {L-1}')\n",
        "        for i in range(n - L + 1):\n",
        "            j = i + L - 1\n",
        "\n",
        "            dp[i][j] = sys.maxsize\n",
        "            sum[i][j] = sum[i][j - 1] + freqs[j]\n",
        "\n",
        "            # Optimización de Knoth\n",
        "            for r in range(root[i][j - 1], root[i + 1][j] + 1):  # r is a temporal root\n",
        "                left = dp[i][r - 1] if r != i else 0  # optimal cost for left subtree\n",
        "                right = dp[r + 1][j] if r != j else 0  # optimal cost for right subtree\n",
        "                cost = left + sum[i][j] + right\n",
        "                if verbose:\n",
        "                    print(f'cost: {cost}')\n",
        "\n",
        "                if dp[i][j] > cost:\n",
        "                    if verbose:\n",
        "                        print(f'Root: {r}')\n",
        "                    dp[i][j] = cost\n",
        "                    root[i][j] = r\n",
        "\n",
        "    if verbose:\n",
        "        print(\"\\nBinary search tree nodes:\")\n",
        "        for node in nodes:\n",
        "            print(node)\n",
        "        print()\n",
        "\n",
        "    print(f\"The cost of optimal BST for given tree nodes is {dp[0][n - 1]}.\")\n",
        "    if visualize:\n",
        "        G = nx.DiGraph()\n",
        "        print_binary_search_tree(root, keys, 0, n - 1, -1, False, G)\n",
        "        nx.draw_networkx(G, with_labels=True, arrows=True)"
      ],
      "metadata": {
        "id": "PNpxHsNxmYmO"
      },
      "execution_count": 8,
      "outputs": []
    },
    {
      "cell_type": "code",
      "source": [
        "nodes = [Node(10, 34), Node(12, 8), Node(20, 50)]\n",
        "optimalSearchTreeDin(nodes)"
      ],
      "metadata": {
        "colab": {
          "base_uri": "https://localhost:8080/"
        },
        "id": "XdbY9V0OFnGS",
        "outputId": "1ef14e14-7643-4909-c8c8-b6f1efd2524f"
      },
      "execution_count": 9,
      "outputs": [
        {
          "output_type": "stream",
          "name": "stdout",
          "text": [
            "The cost of optimal BST for given tree nodes is 142.\n"
          ]
        }
      ]
    },
    {
      "cell_type": "markdown",
      "source": [
        "## 2.1. Descripción del algoritmo\n",
        "\n",
        "Se definen una matriz de ceros para los costos y se llena con los valores de freq[i]. Por cada posible secuencia de keys contigua y todas las posibles raíces, se computan los subárboles óptimos."
      ],
      "metadata": {
        "id": "_aM95gtpyaDm"
      }
    },
    {
      "cell_type": "code",
      "source": [
        "nodes = [Node(10, 34), Node(12, 8), Node(20, 50)]\n",
        "optimalSearchTreeDin(nodes, True, True)"
      ],
      "metadata": {
        "colab": {
          "base_uri": "https://localhost:8080/",
          "height": 659
        },
        "id": "COjjdQf7mWY8",
        "outputId": "1a551bc3-c8dd-438a-e681-e9c5e7e9957e"
      },
      "execution_count": 10,
      "outputs": [
        {
          "output_type": "stream",
          "name": "stdout",
          "text": [
            "\n",
            "Iteración n 1\n",
            "cost: 50\n",
            "Root: 0\n",
            "cost: 76\n",
            "cost: 108\n",
            "Root: 1\n",
            "cost: 66\n",
            "Root: 2\n",
            "\n",
            "Iteración n 2\n",
            "cost: 158\n",
            "Root: 0\n",
            "cost: 176\n",
            "cost: 142\n",
            "Root: 2\n",
            "\n",
            "Binary search tree nodes:\n",
            "Node(key=10, freq=34)\n",
            "Node(key=12, freq=8)\n",
            "Node(key=20, freq=50)\n",
            "\n",
            "The cost of optimal BST for given tree nodes is 142.\n"
          ]
        },
        {
          "output_type": "display_data",
          "data": {
            "text/plain": [
              "<Figure size 432x288 with 1 Axes>"
            ],
            "image/png": "[encoded data removed]"
          },
          "metadata": {}
        }
      ]
    },
    {
      "cell_type": "markdown",
      "source": [
        "# 5. Correctitud"
      ],
      "metadata": {
        "id": "ZimQeIkwVe2C"
      }
    },
    {
      "cell_type": "markdown",
      "source": [
        "Se define la función de recurrencia del algoritmo:\n",
        "\n",
        "$C'_{ij}=\\begin{cases}\n",
        "    min_{i \\leq k \\leq j}\\{C'_{i, k-1} + C'_{k+1, j}\\}+\\sum\\limits_{l=i}^{j} p_l, & \\text{if $i < j$}.\\\\\n",
        "    p_i, & \\text{if $i = j$}.\\\\\n",
        "    0, & \\text{if $i > j$}\n",
        "  \\end{cases}$"
      ],
      "metadata": {
        "id": "PCpIYL0HWlyx"
      }
    },
    {
      "cell_type": "markdown",
      "source": [
        "Se quiere probar que $C'_{ij}$ = $C_{ij}$.\n",
        "\n",
        "Por inducción, se tiene que el caso base, 0 o 1 coste, es trivial.\n",
        "\n",
        "$C_{ij} \\leq C'_{ij}$: por cálculos previos, se tiene que $C'_{ij}$ es el costo de un BST en $i, ..., j$ y $C_{ij}$ es el óptimo BST.\n",
        "\n",
        "En el caso $C_{ij} \\geq C'_{ij}$, con $k$ raíz del óptimo BST supuesto, \n",
        "\n",
        "\\begin{align*}\n",
        "    C_{ij} &= C_{i, k-1} + C_{k+1, j} + \\sum\\limits_{l=i}^{j} p_l\\\\\n",
        "    & \\geq C'_{i, k-1} + C'_{k+1, j} + \\sum\\limits_{l=i}^{j} p_l\\\\\n",
        "    & \\geq min_{i \\leq k \\leq j}\\{C'_{i, k-1} + C'_{k+1, j}\\}+\\sum\\limits_{l=i}^{j} p_l\\\\\n",
        "    & = C'_{ij}\n",
        "\\end{align*}\n",
        "\n",
        "que corresponde a la función de recurrencia definida arriba, por lo que queda demostrada la correctitud."
      ],
      "metadata": {
        "id": "9RBbgd_GZTbA"
      }
    },
    {
      "cell_type": "markdown",
      "source": [
        "# 6. Tiempo de ejecución"
      ],
      "metadata": {
        "id": "9OQk4yV_fs6L"
      }
    },
    {
      "cell_type": "markdown",
      "source": [
        "## 6.1. Recursivo\n",
        "\n",
        "Se define la función de recurrencia:\n",
        "\n",
        "\\begin{align*}\n",
        "    T(n) & = \\sum\\limits_{i=0}^{n-1} T(i) + n\\\\\n",
        "    & \\geq T(n-1) + T(n-2)\\\\\n",
        "    & \\geq F(n), \\text{con $F(n)$ la función de Fibonacci}\\\\\n",
        "    & = 2^{\\Theta(n)}\n",
        "\\end{align*}\n",
        "\n",
        "Por lo que el tiempo de ejecución sería $2^{\\Theta(n)}$."
      ],
      "metadata": {
        "id": "_yxvN_jrfxjM"
      }
    },
    {
      "cell_type": "markdown",
      "source": [
        "## 6.2. Bottom-Up\n",
        "\n",
        "Se puede apreciar en el algoritmo que este posee 3 _for_ anidados, cada uno con valores poribles de hasta n. Así, el tiempo de ejecución que corresponde es $O(n^3)$."
      ],
      "metadata": {
        "id": "0eGFhZkPf1Q-"
      }
    }
  ]
}