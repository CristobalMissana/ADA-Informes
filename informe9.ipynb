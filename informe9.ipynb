{
  "nbformat": 4,
  "nbformat_minor": 0,
  "metadata": {
    "colab": {
      "provenance": [],
      "collapsed_sections": []
    },
    "kernelspec": {
      "name": "python3",
      "display_name": "Python 3"
    },
    "language_info": {
      "name": "python"
    }
  },
  "cells": [
    {
      "cell_type": "markdown",
      "source": [
        "# 1. Problema de la mochila\n",
        "\n",
        "Se tiene una mochila con peso máximo $W$ y distintos elementos de distinto peso y valor. Se debe escoger la combinación de objetos que quepan en la mochila que maximicen el valor total.\n",
        "\n",
        "**Entrada**: arreglo de pesos, de valores, el valor del peso máximo de la mochila y la cantidad de elementos.\n",
        "\n",
        "**Salida**: valor maximizado"
      ],
      "metadata": {
        "id": "yaxY-9OCnlE_"
      }
    },
    {
      "cell_type": "markdown",
      "source": [
        "## 1.1. Descripción del algoritmo Bottom-Up"
      ],
      "metadata": {
        "id": "fOCd9tLTnnf1"
      }
    },
    {
      "cell_type": "code",
      "execution_count": 1,
      "metadata": {
        "id": "tfkX-13zk3g5"
      },
      "outputs": [],
      "source": [
        "def knapSackDin(W, wt, val, n, verbose=False):\n",
        "    c = 0\n",
        "    K = [[0 for x in range(W + 1)] for x in range(n + 1)]\n",
        " \n",
        "    # Se construye la tabla K\n",
        "    for i in range(n + 1):\n",
        "        for w in range(W + 1):\n",
        "            if (i == 0) or (w == 0):\n",
        "                K[i][w] = 0\n",
        "            elif wt[i-1] <= w:\n",
        "                K[i][w] = max(val[i-1] + K[i-1][w-wt[i-1]], K[i-1][w])\n",
        "            else:\n",
        "                K[i][w] = K[i-1][w]\n",
        "            c += 1\n",
        "        if verbose:\n",
        "            print(f'Iteración {i+1}')\n",
        "            print(f'Valor dentro de la mochila: {K[i][w]}\\n')\n",
        " \n",
        "    return K[n][W], c"
      ]
    },
    {
      "cell_type": "code",
      "source": [
        "val = [60, 100, 120]\n",
        "wt = [10, 20, 30]\n",
        "W = 50\n",
        "n = len(val)\n",
        "print(f'Valor máximo posible: {knapSackDin(W, wt, val, n)[0]}')"
      ],
      "metadata": {
        "colab": {
          "base_uri": "https://localhost:8080/"
        },
        "id": "Zg-KXC4o7PTR",
        "outputId": "88b88dd7-f1cc-4079-c6e1-e2e64122ae8b"
      },
      "execution_count": 2,
      "outputs": [
        {
          "output_type": "stream",
          "name": "stdout",
          "text": [
            "Valor máximo posible: 220\n"
          ]
        }
      ]
    },
    {
      "cell_type": "markdown",
      "source": [
        "# 2. Algoritmo _greedy_"
      ],
      "metadata": {
        "id": "zaESBPrDrabf"
      }
    },
    {
      "cell_type": "code",
      "source": [
        "class Item:\n",
        "    def __init__(self, value, weight):\n",
        "        self.value = value\n",
        "        self.weight = weight"
      ],
      "metadata": {
        "id": "XHsT0WYYrXKX"
      },
      "execution_count": 3,
      "outputs": []
    },
    {
      "cell_type": "code",
      "source": [
        "def fractionalKnapsack(W, arr, verbose=False):\n",
        "    c = 0\n",
        " \n",
        "    # Se ordenan los elementos según su ratio\n",
        "    arr.sort(key=lambda x: (x.value/x.weight), reverse=True)\n",
        "\n",
        "    if verbose:\n",
        "        print(\"Elementos ordenados por ratio 'valor/peso':\")\n",
        "        for item in arr:\n",
        "            print(item.value, item.weight, item.value/item.weight)\n",
        "        print()\n",
        " \n",
        "    # Valor total optimizado\n",
        "    finalValue = 0.0\n",
        "\n",
        "    for item in arr:\n",
        " \n",
        "        # Se agrega un elemento si no sobrepasa el peso máximo\n",
        "        if item.weight <= W:\n",
        "            W -= item.weight\n",
        "            finalValue += item.value\n",
        "            if verbose:\n",
        "                print(f'Se agregó un elemento completo: {item.weight}')\n",
        "                print(f'Valor total dentro de la mochila: {finalValue}')\n",
        "            c += 1\n",
        "\n",
        "        # Si no se puede agregar el elemento completo se agrega una fracción de él\n",
        "        else:\n",
        "            finalValue += item.value * W / item.weight\n",
        "            c += 1\n",
        "            if verbose:\n",
        "                print(f'Se agregó {(item.value * W / item.weight)/item.value:.2f} del elemento de peso {item.weight} y valor {item.value}: {item.value * W / item.weight}\\n')\n",
        "            break\n",
        "\n",
        "    return finalValue, c"
      ],
      "metadata": {
        "id": "oaVhZSK8rCTQ"
      },
      "execution_count": 4,
      "outputs": []
    },
    {
      "cell_type": "code",
      "source": [
        "W = 50\n",
        "arr = [Item(60, 10), Item(100, 20), Item(120, 30)]\n",
        "max_val, c = fractionalKnapsack(W, arr)\n",
        "print(f'Valor máximo posible: {max_val}')\n",
        "print(f'Comparaciones: {c}')"
      ],
      "metadata": {
        "id": "FeGZVHM2rX4X",
        "colab": {
          "base_uri": "https://localhost:8080/"
        },
        "outputId": "151f30fb-b8f9-4c2a-b157-3fec66854a61"
      },
      "execution_count": 5,
      "outputs": [
        {
          "output_type": "stream",
          "name": "stdout",
          "text": [
            "Valor máximo posible: 240.0\n",
            "Comparaciones: 3\n"
          ]
        }
      ]
    },
    {
      "cell_type": "markdown",
      "source": [
        "## 2.1. Descripción del algoritmo"
      ],
      "metadata": {
        "id": "Fzjq1SnRyARR"
      }
    },
    {
      "cell_type": "markdown",
      "source": [
        "# 3. Opción `verbose=True`"
      ],
      "metadata": {
        "id": "jCDppp6naJKe"
      }
    },
    {
      "cell_type": "code",
      "source": [
        "val = [60, 100, 120]\n",
        "wt = [10, 20, 30]\n",
        "W = 50\n",
        "n = len(val)\n",
        "print(f'Valor máximo posible: {knapSackDin(W, wt, val, n, True)[0]}')"
      ],
      "metadata": {
        "colab": {
          "base_uri": "https://localhost:8080/"
        },
        "id": "7BaaYkdGaU9U",
        "outputId": "115a1dab-ce6e-4110-ddfe-d577a403741a"
      },
      "execution_count": 6,
      "outputs": [
        {
          "output_type": "stream",
          "name": "stdout",
          "text": [
            "Iteración 1\n",
            "Valor dentro de la mochila: 0\n",
            "\n",
            "Iteración 2\n",
            "Valor dentro de la mochila: 60\n",
            "\n",
            "Iteración 3\n",
            "Valor dentro de la mochila: 160\n",
            "\n",
            "Iteración 4\n",
            "Valor dentro de la mochila: 220\n",
            "\n",
            "Valor máximo posible: 220\n"
          ]
        }
      ]
    },
    {
      "cell_type": "code",
      "source": [
        "W = 50\n",
        "arr = [Item(60, 10), Item(100, 20), Item(120, 30)]\n",
        "max_val, _ = fractionalKnapsack(W, arr, True)\n",
        "print (f'Valor máximo posible: {max_val}')"
      ],
      "metadata": {
        "colab": {
          "base_uri": "https://localhost:8080/"
        },
        "id": "p0jcquRKbXGu",
        "outputId": "25138e75-2bd2-46f2-cb45-061108855bf7"
      },
      "execution_count": 7,
      "outputs": [
        {
          "output_type": "stream",
          "name": "stdout",
          "text": [
            "Elementos ordenados por ratio 'valor/peso':\n",
            "60 10 6.0\n",
            "100 20 5.0\n",
            "120 30 4.0\n",
            "\n",
            "Se agregó un elemento completo: 10\n",
            "Valor total dentro de la mochila: 60.0\n",
            "Se agregó un elemento completo: 20\n",
            "Valor total dentro de la mochila: 160.0\n",
            "Se agregó 0.67 del elemento de peso 30 y valor 120: 80.0\n",
            "\n",
            "Valor máximo posible: 240.0\n"
          ]
        }
      ]
    },
    {
      "cell_type": "markdown",
      "source": [
        "# 4. Correctitud\n",
        "\n",
        "Hipótesis inductiva: _el algoritmo es correcto para todos los valores de $a[i', j']$, donde (i, j) < (i', j'). En otras palabras, todos los elementos previos de la tabla son correctos._\n",
        "\n",
        "Caso base: $a[i, 0] = a[0, j] = 0$ para todo $i, j$.\n",
        "\n",
        "Paso inductivo: cuando se calcula $a[i', j']$, por la hipótesis inductiva se tiene que $a[i'-1, j']$ y $a[i'-1, j'-w_{i'}]$ están correctamente calculados. El algoritmo considera el valor óptimo para el item $i'$ en la mochila como $a[i'-1, j'-w_{i'}]+v_{i'}$ y para el item $i'$ no en la mochila como $a[i'-1, j']$. Por lo tanto, el valor en $a[i', j']$ será correctamente calculado."
      ],
      "metadata": {
        "id": "NOaT1ovvk-3Z"
      }
    },
    {
      "cell_type": "markdown",
      "source": [
        "# 5. Tiempo de ejecución"
      ],
      "metadata": {
        "id": "dLDtBerdnJJe"
      }
    },
    {
      "cell_type": "markdown",
      "source": [
        "## 5.1. Algoritmo Bottom-Up\n",
        "\n",
        "El tiempo de ejecución de esta implementación es $O(N \\cdot W)$, donde $N$ corresponde al número de elementos y $W$ a la capacidad. Por cada elemento de peso se recorren todas las capacidades."
      ],
      "metadata": {
        "id": "fsP6LrULnLaO"
      }
    },
    {
      "cell_type": "markdown",
      "source": [
        "## 5.2. Algoritmo _greedy_\n",
        "\n",
        "El algoritmo tiene 2 pasos principales: ordenar los elementos y agregarlos a la mochila. El primero se puede hacer en $O(n \\log n)$ y el segundo en $O(n)$, por lo que su complejidad total es $O(n \\log n)$. Si los elementos ya están ordenados, el algoritmo solo tiene complejidad $O(n)$."
      ],
      "metadata": {
        "id": "a8a3--cg6g9B"
      }
    },
    {
      "cell_type": "markdown",
      "source": [
        "# 6. Experimentos"
      ],
      "metadata": {
        "id": "iofxEdE9xUY0"
      }
    },
    {
      "cell_type": "code",
      "source": [
        "import datetime\n",
        "import matplotlib.pyplot as plt\n",
        "import random\n",
        "from random import randint\n",
        "from math import log\n",
        "from timeit import repeat\n",
        "\n",
        "%matplotlib inline"
      ],
      "metadata": {
        "id": "cS1j8voPc5sJ"
      },
      "execution_count": 8,
      "outputs": []
    },
    {
      "cell_type": "code",
      "source": [
        "def generateItemsList(num_items, max_value_per_weight_ratio):\n",
        "    values = list()\n",
        "    weights = list()\n",
        "    for i in range(0, num_items):\n",
        "        value = random.randint(1, 4)\n",
        "        max_w = int(max_value_per_weight_ratio/value)\n",
        "        weight = random.randint(min(1, max_w), max_w)\n",
        "\n",
        "        values.append(value)\n",
        "        weights.append(weight)\n",
        "    return values, weights"
      ],
      "metadata": {
        "id": "Fh0jy2WaeaZp"
      },
      "execution_count": 9,
      "outputs": []
    },
    {
      "cell_type": "code",
      "source": [
        "def generateItemsObjList(num_items, max_value_per_weight_ratio):\n",
        "    items = list()\n",
        "    for i in range(0, num_items):\n",
        "        value = random.randint(1, 4)\n",
        "        max_w = int(max_value_per_weight_ratio/value)\n",
        "        weight = random.randint(min(1, max_w), max_w)\n",
        "\n",
        "        items.append(Item(value, weight))\n",
        "    return items"
      ],
      "metadata": {
        "id": "7ScBKvZtkf3P"
      },
      "execution_count": 10,
      "outputs": []
    },
    {
      "cell_type": "code",
      "source": [
        "def generateItemsObj(num_items, max_value_per_weight_ratio, W):\n",
        "    items = list()\n",
        "    for i in range(0, num_items):\n",
        "        value = random.randint(1, 4)\n",
        "        max_w = int(max_value_per_weight_ratio/value)\n",
        "        weight = random.randint(min(1, max_w), max_w)\n",
        "\n",
        "        items.append(Item(value, weight))\n",
        "    \n",
        "    max_val, _ = fractionalKnapsack(W, items)\n",
        "    return max_val"
      ],
      "metadata": {
        "id": "NQX5wYVPgXQY"
      },
      "execution_count": 11,
      "outputs": []
    },
    {
      "cell_type": "markdown",
      "source": [
        "## 6.1. Comparación tiempos de ejecución"
      ],
      "metadata": {
        "id": "p5DaS7pQbqhG"
      }
    },
    {
      "cell_type": "code",
      "source": [
        "x = []\n",
        "y = []\n",
        "\n",
        "x2 = []\n",
        "y2 = []\n",
        "\n",
        "for n in range(3, 500):\n",
        "    val, wt = generateItemsList(n, 2*n) # 2*n es el máximo ratio entre el valor y el peso\n",
        "    W = random.randint(25, 100) # se genera un valor random para el peso\n",
        "    t = repeat(setup=\"from __main__ import knapSackDin\", stmt=f'knapSackDin({W}, {wt}, {val}, {len(val)}){[0]}', repeat=1, number=10)\n",
        "    x.append(n)\n",
        "    y.append(t)\n",
        "\n",
        "for n2 in range(3, 500):\n",
        "    W2 = random.randint(25, 100)\n",
        "    t2 = repeat(setup=\"from __main__ import Item, generateItemsObj\", stmt=f'generateItemsObj({n2}, {2*n2}, {W2})', repeat=1, number=10)\n",
        "    x2.append(n2)\n",
        "    y2.append(t2)\n",
        "\n",
        "plt.plot(x, y)\n",
        "plt.plot(x2, y2)\n",
        "plt.legend([\"Dinámico\", \"Greedy\"])\n",
        "\n",
        "plt.xlabel('n')\n",
        "plt.ylabel('time in ms')\n",
        "plt.title(\"Problema de la mochila: programación dinámica vs programación greedy\")\n",
        "\n",
        "plt.grid()\n",
        "plt.show()"
      ],
      "metadata": {
        "colab": {
          "base_uri": "https://localhost:8080/",
          "height": 295
        },
        "id": "hcl0LLurc2GK",
        "outputId": "c74e9338-19b0-4483-cb0b-24eca077c89a"
      },
      "execution_count": 12,
      "outputs": [
        {
          "output_type": "display_data",
          "data": {
            "text/plain": [
              "<Figure size 432x288 with 1 Axes>"
            ],
            "image/png": "[encoded data removed]"
          },
          "metadata": {
            "needs_background": "light"
          }
        }
      ]
    },
    {
      "cell_type": "markdown",
      "source": [
        "El algoritmo dinámico es notoriamente más lento que el greedy para todos los valores de $n$. Cabe resaltar que el dinámico resuelve _0-1 Knapsack_ y el greedy resuelve _Fractional Knapsack_. Si el greedy resolviera _0-1 Knapsack_ seguiría siendo mucho más rápido, pero no encontraría siempre la solución óptima."
      ],
      "metadata": {
        "id": "D8xoLKgZeAZ1"
      }
    },
    {
      "cell_type": "markdown",
      "source": [
        "## 6.2. Comparación de iteraciones/repeticiones"
      ],
      "metadata": {
        "id": "DkBdrcXZbxma"
      }
    },
    {
      "cell_type": "code",
      "source": [
        "x = [n for n in range(3, 500)]\n",
        "y1 = []\n",
        "y2 = []\n",
        "\n",
        "for n in range(3, 500):\n",
        "    W = random.randint(25, 100)\n",
        "    val, wt = generateItemsList(n, 2*n)\n",
        "    _, c1 = knapSackDin(W, wt, val, len(val))\n",
        "    items = generateItemsObjList(n, 2*n)\n",
        "    _, c2 = fractionalKnapsack(W, items)\n",
        "    y1.append(c1)\n",
        "    y2.append(c2)\n",
        "\n",
        "plt.plot(x, y1)\n",
        "plt.plot(x, y2)\n",
        "\n",
        "plt.legend([\"Dinámico\", \"Greedy\"])\n",
        "plt.show()"
      ],
      "metadata": {
        "colab": {
          "base_uri": "https://localhost:8080/",
          "height": 265
        },
        "id": "T3Dqvdsijgn3",
        "outputId": "d6220c3c-f912-46e6-8d71-283bb4906ba4"
      },
      "execution_count": 13,
      "outputs": [
        {
          "output_type": "display_data",
          "data": {
            "text/plain": [
              "<Figure size 432x288 with 1 Axes>"
            ],
            "image/png": "[encoded data removed]"
          },
          "metadata": {
            "needs_background": "light"
          }
        }
      ]
    },
    {
      "cell_type": "markdown",
      "source": [
        "Como se puede apreciar, la versión dinámica realiza muchas más comparaciones que la versión greedy para cualquier valor de $n$. Al igual que lo explicado en el gráfico anterior, se está comparando el algoritmo dinámico que resuelve _0-1 Knapsack_ con el greedy que resuelve _Fractional Knapsack_ y que si éste último resolviera _0-1 Knapsack_ no siempre encontraría la respuesta óptima, manteniendo la cantidad de comparaciones mucho más bajas que el dinámico."
      ],
      "metadata": {
        "id": "cFiLtXhvfHTt"
      }
    }
  ]
}