{
  "nbformat": 4,
  "nbformat_minor": 0,
  "metadata": {
    "colab": {
      "provenance": [],
      "collapsed_sections": []
    },
    "kernelspec": {
      "name": "python3",
      "display_name": "Python 3"
    },
    "language_info": {
      "name": "python"
    }
  },
  "cells": [
    {
      "cell_type": "markdown",
      "source": [
        "# 1. Pivot Selection"
      ],
      "metadata": {
        "id": "omlBamKEgL7C"
      }
    },
    {
      "cell_type": "markdown",
      "source": [
        "## 1.1. Descripción del problema\n",
        "\n",
        "Se busca encontrar el elemento de la posición i-ésima de tal manera que existan i-1 elementos menores que éste.\n",
        "\n",
        "**Entrada**: Arreglo A y valor i.\n",
        "\n",
        "**Salida**: Valor del elemento que cumpla la condición de que hayan i-1 elementos menores que él."
      ],
      "metadata": {
        "id": "8EXlbRL2gM1h"
      }
    },
    {
      "cell_type": "code",
      "source": [
        "def insertionSort(arr, verbose=False):\n",
        "    n = len(arr)\n",
        "    c = 0 # Contador de comparaciones\n",
        "    if verbose == True:\n",
        "        print('\\nInput array:', arr)\n",
        "    # Se recorre el arreglo\n",
        "    for i in range(1, n):\n",
        "        c += 1\n",
        "        if verbose == True:\n",
        "            print('\\nPasada', i)\n",
        "        elemento = arr[i]\n",
        "        j = i-1\n",
        "        # Cambia la posición del elemento si es menor que su predecesor\n",
        "        while j >= 0 and elemento < arr[j]:\n",
        "            c += 1\n",
        "            arr[j+1] = arr[j]\n",
        "            j -= 1\n",
        "        arr[j+1] = elemento\n",
        "        if verbose == True:\n",
        "            print('\\nArray:', arr)\n",
        "    if verbose == True:\n",
        "        print('\\nDone')\n",
        "    return arr"
      ],
      "metadata": {
        "id": "76J1kyRpLnWD"
      },
      "execution_count": 1,
      "outputs": []
    },
    {
      "cell_type": "code",
      "source": [
        "def pivotSelection(A, verbose=False):\n",
        "    sublists = [A[j:j+5] for j in range(0, len(A), 5)]\n",
        "    if verbose:\n",
        "        print(f'Subarreglos agrupados: {sublists}')\n",
        "        print(f'Subarreglos agrupados y ordenados: {[insertionSort(sublist) for sublist in sublists]}')\n",
        "    medians = [insertionSort(sublist)[len(sublist)//2] for sublist in sublists]\n",
        "    if verbose:\n",
        "        print(f'Lista de medianas: {medians}')\n",
        "    # Si la lista que recibe es menor a 5 elementos, solo retorna el valor\n",
        "    if len(medians) <= 5:\n",
        "        pivot = insertionSort(medians)[len(medians)//2]\n",
        "        if verbose:\n",
        "            print(f'Mediana de la lista: {pivot}')\n",
        "        return pivot\n",
        "    # Si la lista que recibe tiene más de 5 elementos, repite el proceso\n",
        "    # recursivamente con la nueva lista\n",
        "    else:\n",
        "        pivot = pivotSelection(medians, len(medians)//2)\n",
        "        return pivot"
      ],
      "metadata": {
        "id": "BxSWWZFfymcH"
      },
      "execution_count": 2,
      "outputs": []
    },
    {
      "cell_type": "markdown",
      "source": [
        "## 1.2. Descripción del algoritmo\n",
        "\n",
        "El algoritmo _pivotSelection_ se encarga de escoger el pivote para usar en _Select_. Lo que hace es dividir el arreglo de entrada en $\\frac{n}{5}$ grupos de 5 elementos. Luego los ordena usando _Insertion Sort_ y obtiene la mediana de cada grupo. Junta todas las medianas y aplica recursivamente _pivotSelection_ con el nuevo subarreglo de medianas hasta que obtenga una única mediana, que es el valor que retorna."
      ],
      "metadata": {
        "id": "fuoF7ymrgQ6B"
      }
    },
    {
      "cell_type": "markdown",
      "source": [
        "# 2. Select Sort"
      ],
      "metadata": {
        "id": "DejyD2R3gVAS"
      }
    },
    {
      "cell_type": "code",
      "source": [
        "def partition(A, verbose=False):\n",
        "    m = pivotSelection(A, verbose)\n",
        "    if verbose:\n",
        "        print(f'Lista antes de particionar: {A}')\n",
        "    low = [j for j in A if j<m]\n",
        "    high = [j for j in A if j>m]\n",
        "    if verbose:\n",
        "        print(f'Subarreglo izquierdo: {low}')\n",
        "        print(f'Subarreglo derecho: {high}')\n",
        "    return m, low, high"
      ],
      "metadata": {
        "id": "m6AoauBhBhwx"
      },
      "execution_count": 3,
      "outputs": []
    },
    {
      "cell_type": "code",
      "source": [
        "def select(A, i, verbose=False):\n",
        "    if verbose:\n",
        "        print(f'Input: {A}')\n",
        "    pivot, low, high = partition(A, verbose)\n",
        "    if verbose:\n",
        "        print(f'Pivote: {pivot}')\n",
        "    k = len(low)\n",
        "    if i < k:\n",
        "        if verbose:\n",
        "            print(f'Subarreglo izquierdo: {low}\\n')\n",
        "        return select(low, i, verbose)\n",
        "    elif i > k:\n",
        "        if verbose:\n",
        "            print(f'Subarreglo derecho: {high}\\n')\n",
        "        return select(high, i-k-1, verbose)\n",
        "    else:\n",
        "        if verbose:\n",
        "            print(f'Resultado: {pivot}\\n')\n",
        "        return pivot"
      ],
      "metadata": {
        "id": "tWkH1HOrDB-R"
      },
      "execution_count": 4,
      "outputs": []
    },
    {
      "cell_type": "markdown",
      "source": [
        "## 2.1. Descripción del algoritmo\n",
        "\n",
        "El algoritmo recibe un arreglo de números y un valor $i$, que corresponde al i-ésimo menor elemento del arreglo. Primero revisa el caso en que el arreglo tiene un único elemento y lo retorna si es así. Luego particiona el arreglo: en _partition_ se calcula el pivote con _pivotSelection_, y el resto de la ejecución es similar a la de _partition_ en _quicksort_, en el que entrega como valor la posición del pivote. Se calcula $k$ que es la cantidad de elementos del subarreglo izquiero más 1 por el pivote y se compara: si $i=k$ se retorna el pivote, que es el elemento que se buscaba; si $i<k$ se aplica _select_ recursivamente con el subarreglo izquierdo, y si $i>k$ se aplica _select_ recursivamente con el subarreglo derecho."
      ],
      "metadata": {
        "id": "prAklfSZgXry"
      }
    },
    {
      "cell_type": "code",
      "source": [
        "# Bloque de código que sirve para \n",
        "a = [90, 97, 73, 43, 25, 8, 12, 21, 46, 56, 54, 31, 20, 35, 100, 24, 88, 98, 95, 96, 19, 33, 55, 52, 94]\n",
        "a.sort()\n",
        "print(a)"
      ],
      "metadata": {
        "colab": {
          "base_uri": "https://localhost:8080/"
        },
        "id": "KneDCuQLfTSi",
        "outputId": "c2a54a8a-3767-497b-ca05-7b6e409b7be0"
      },
      "execution_count": 5,
      "outputs": [
        {
          "output_type": "stream",
          "name": "stdout",
          "text": [
            "[8, 12, 19, 20, 21, 24, 25, 31, 33, 35, 43, 46, 52, 54, 55, 56, 73, 88, 90, 94, 95, 96, 97, 98, 100]\n"
          ]
        }
      ]
    },
    {
      "cell_type": "code",
      "source": [
        "a = [90, 97, 73, 43, 25, 8, 12, 21, 46, 56, 54, 31, 20, 35, 100, 24, 88, 98, 95, 96, 19, 33, 55, 52, 94]\n",
        "b = 8\n",
        "print(f'Entrada: {a}\\n')\n",
        "x = select(a, b, True)\n",
        "print(f'\\nElemento en la posición {b+1}: {x}')"
      ],
      "metadata": {
        "colab": {
          "base_uri": "https://localhost:8080/"
        },
        "id": "D1luQKHAfOUj",
        "outputId": "735d0320-212c-4ee5-c3dd-2e3f6a55a5f8"
      },
      "execution_count": 6,
      "outputs": [
        {
          "output_type": "stream",
          "name": "stdout",
          "text": [
            "Entrada: [90, 97, 73, 43, 25, 8, 12, 21, 46, 56, 54, 31, 20, 35, 100, 24, 88, 98, 95, 96, 19, 33, 55, 52, 94]\n",
            "\n",
            "Input: [90, 97, 73, 43, 25, 8, 12, 21, 46, 56, 54, 31, 20, 35, 100, 24, 88, 98, 95, 96, 19, 33, 55, 52, 94]\n",
            "Subarreglos agrupados: [[90, 97, 73, 43, 25], [8, 12, 21, 46, 56], [54, 31, 20, 35, 100], [24, 88, 98, 95, 96], [19, 33, 55, 52, 94]]\n",
            "Subarreglos agrupados y ordenados: [[25, 43, 73, 90, 97], [8, 12, 21, 46, 56], [20, 31, 35, 54, 100], [24, 88, 95, 96, 98], [19, 33, 52, 55, 94]]\n",
            "Lista de medianas: [73, 21, 35, 95, 52]\n",
            "Mediana de la lista: 52\n",
            "Lista antes de particionar: [90, 97, 73, 43, 25, 8, 12, 21, 46, 56, 54, 31, 20, 35, 100, 24, 88, 98, 95, 96, 19, 33, 55, 52, 94]\n",
            "Subarreglo izquierdo: [43, 25, 8, 12, 21, 46, 31, 20, 35, 24, 19, 33]\n",
            "Subarreglo derecho: [90, 97, 73, 56, 54, 100, 88, 98, 95, 96, 55, 94]\n",
            "Pivote: 52\n",
            "Subarreglo izquierdo: [43, 25, 8, 12, 21, 46, 31, 20, 35, 24, 19, 33]\n",
            "\n",
            "Input: [43, 25, 8, 12, 21, 46, 31, 20, 35, 24, 19, 33]\n",
            "Subarreglos agrupados: [[43, 25, 8, 12, 21], [46, 31, 20, 35, 24], [19, 33]]\n",
            "Subarreglos agrupados y ordenados: [[8, 12, 21, 25, 43], [20, 24, 31, 35, 46], [19, 33]]\n",
            "Lista de medianas: [21, 31, 33]\n",
            "Mediana de la lista: 31\n",
            "Lista antes de particionar: [43, 25, 8, 12, 21, 46, 31, 20, 35, 24, 19, 33]\n",
            "Subarreglo izquierdo: [25, 8, 12, 21, 20, 24, 19]\n",
            "Subarreglo derecho: [43, 46, 35, 33]\n",
            "Pivote: 31\n",
            "Subarreglo derecho: [43, 46, 35, 33]\n",
            "\n",
            "Input: [43, 46, 35, 33]\n",
            "Subarreglos agrupados: [[43, 46, 35, 33]]\n",
            "Subarreglos agrupados y ordenados: [[33, 35, 43, 46]]\n",
            "Lista de medianas: [43]\n",
            "Mediana de la lista: 43\n",
            "Lista antes de particionar: [43, 46, 35, 33]\n",
            "Subarreglo izquierdo: [35, 33]\n",
            "Subarreglo derecho: [46]\n",
            "Pivote: 43\n",
            "Subarreglo izquierdo: [35, 33]\n",
            "\n",
            "Input: [35, 33]\n",
            "Subarreglos agrupados: [[35, 33]]\n",
            "Subarreglos agrupados y ordenados: [[33, 35]]\n",
            "Lista de medianas: [35]\n",
            "Mediana de la lista: 35\n",
            "Lista antes de particionar: [35, 33]\n",
            "Subarreglo izquierdo: [33]\n",
            "Subarreglo derecho: []\n",
            "Pivote: 35\n",
            "Subarreglo izquierdo: [33]\n",
            "\n",
            "Input: [33]\n",
            "Subarreglos agrupados: [[33]]\n",
            "Subarreglos agrupados y ordenados: [[33]]\n",
            "Lista de medianas: [33]\n",
            "Mediana de la lista: 33\n",
            "Lista antes de particionar: [33]\n",
            "Subarreglo izquierdo: []\n",
            "Subarreglo derecho: []\n",
            "Pivote: 33\n",
            "Resultado: 33\n",
            "\n",
            "\n",
            "Elemento en la posición 9: 33\n"
          ]
        }
      ]
    },
    {
      "cell_type": "markdown",
      "source": [
        "# 3. Correctitud Select\n",
        "\n",
        "**Caso base**: $n = 1$\n",
        "\n",
        "Con $n=1$ se tiene que $i=1$ y $low = high$, así que el i-ésimo elemento sería $A[low] = A[high]$.\n",
        "\n",
        "**Caso general**: $n>1$\n",
        "\n",
        "El pivote $q$ es la mediana de las medianas y cumple que $A[j]<A[q]<A[k]$ para todo $j$ y $k$ que cumplan $low \\leq j < q < k \\leq high$.\n",
        "\n",
        "Para $k=low-high+1$ (cantidad de elementos del subarreglo izquierdo más 1 por el pivote) se tiene:\n",
        "\n",
        "- El k-ésimo elemento de $A[low ... high]$ es $A[q]$\n",
        "- Si $i<k$, el i-ésimo elemento de $A[low ... high]$ es el i-ésimo elemento de $A[low ... q-1]$\n",
        "- Si $i>k$, el i-ésimo elemento de $A[low ... high]$ es el $(i-k-1)$-ésimo elemento de $A[q+1 ... high]$\n",
        "\n",
        "Por lo tanto, se prueba la correctitud de _Select_ por inducción."
      ],
      "metadata": {
        "id": "qzEdzFkUgYfi"
      }
    },
    {
      "cell_type": "markdown",
      "source": [
        "## 4. Complejidad temporal Select\n",
        "\n",
        "La función de recursión de Select tiene la forma: $T(n)=T($tamaño subproblema 1$) + T($tamaño subproblema 2$) + O(n)$.\n",
        "\n",
        "El tamaño del subproblema 1 es $\\frac{n}{5}$. El tamaño del segundo es $?$.\n",
        "\n",
        "Para obtener $?$ se probará el siguiente lema:\n",
        "\n",
        "**Lema 30-70**: _Para cada lista de entrada con largo_ $n \\geq 2$_, el subarreglo entregado a las llamadas recursivas de Select tiene tamaño como máximo de_ $\\frac{7n}{10}$.\n",
        "\n",
        "**Demostración**: $k = \\frac{n}{5}$ es el número de grupos de 5 elementos. $x_i$ es el i-ésimo menor elemento del grupo, $x_1, ..., x_k$ son los elementos del grupo en orden ascendente. La mediana de medianas corresponde a $x_{\\frac{k}{2}}$ o $x_{⌈\\frac{k}{2}⌉}$ para $k$ impar. Al menos un $50\\%$ de los grupos tiene una mediana menor y al menos un $60\\%$ de los elementos de esos grupos son menores o iguales al valor obtenido. Por lo tanto, al menos un $50\\% \\cdot 60\\% = 30\\%$ de los elementos del arreglo original son menores o iguales al pivote. Similarmente, al menos un $30\\%$ de los elementos del arreglo original son mayores que el pivote. Así queda demostrado el _Lema 30-70_.\n",
        "\n",
        "Como el lema se cumple, $?$ equivale a $\\frac{7n}{10}$.\n",
        "\n",
        "$T(n)=T(\\frac{n}{5}) + T(\\frac{7n}{10}) + O(n)$\n",
        "\n",
        "$T(1) = 1$ $\\rightarrow$ $\\frac{1}{5}+\\frac{7}{10} < 1$\n",
        "\n",
        "Se probará por inducción que $T(n) = O(n)$:\n",
        "\n",
        "Existe una constante $l>0$ tal que $T(n) \\leq l \\cdot n$\n",
        "\n",
        "$T(n) \\leq T(\\frac{n}{5}) + T(\\frac{7n}{10}) + c \\cdot n$\n",
        "\n",
        "$T(n) \\leq l \\cdot \\frac{n}{5} + l \\cdot \\frac{7n}{10} + c \\cdot n$\n",
        "\n",
        "$T(n) \\leq n\\left(\\frac{9}{10} \\cdot l + c\\right) \\rightarrow$ se escoge convenientemente $l = 10c \\Rightarrow \\frac{9l}{10} + c = 10c = l$ (como $c$ es constante, $l$ también lo es).\n",
        "\n",
        "Finalmente queda $T(n) \\leq l \\cdot n = O(n)$, por lo que se demuestra la inducción."
      ],
      "metadata": {
        "id": "ENi0Y1esgcRy"
      }
    }
  ]
}