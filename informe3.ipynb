{
  "nbformat": 4,
  "nbformat_minor": 0,
  "metadata": {
    "colab": {
      "name": "informe3.ipynb",
      "provenance": [],
      "collapsed_sections": []
    },
    "kernelspec": {
      "name": "python3",
      "display_name": "Python 3"
    },
    "language_info": {
      "name": "python"
    }
  },
  "cells": [
    {
      "cell_type": "markdown",
      "source": [
        "# 1. Problema del sub-arreglo máximo\n",
        "\n",
        "Se requiere encontrar un sub-arreglo continuo del arreglo principal que maximice la suma, esto es, que los elementos de dicho sub-arreglo sumen igual o más que el de cualquier otro sub-arreglo.\n",
        "\n",
        "**Entrada**: Arreglo de números $[a_1, ..., a_n]$, con $n \\in \\mathbb{N}$.\n",
        "\n",
        "**Salida**: Sub-arreglo $[A-i, .., a_j]$ tal que la suma de los elementos es mayor o igual a cualquier otro sub-arreglo, es decir, $\\sum\\limits_{k=i}^j a_k \\geq \\sum\\limits_{k=i'}^{j'} a_k$ para cualquier par $(i', j')$, con $i' \\leq j' \\leq n$."
      ],
      "metadata": {
        "id": "-TPLiiwRbWOh"
      }
    },
    {
      "cell_type": "markdown",
      "source": [
        "## 2. Implementación _MaxSubArrayMid_\n",
        "\n",
        "Descripción del algoritmo:\n",
        "\n",
        "Se divide _arr_ en la mitad. Luego, a partir del valor _mid_ (donde se divide el arreglo), un contador va disminuyendo en posiciones hacia la izquierda y otro va aumentando hacia la derecha. En el sub-arreglo de la izquierda se busca la posición que maximice la suma de dicho sub-arreglo. Lo mismo ocurre en el de la derecha. Al final, con ambas posiciones se forma el sub-arreglo que maximiza la suma y que pasa por _mid_."
      ],
      "metadata": {
        "id": "Uk3mJdjB8iAy"
      }
    },
    {
      "cell_type": "code",
      "source": [
        "def maxSubArrayMid(arr, l, m, h, verbose=False):\n",
        "    left_sum = float('-inf')\n",
        "    smL = 0\n",
        "    cross_start = m\n",
        "\n",
        "    for i in range(m-1, l-1, -1):\n",
        "        smL = smL + arr[i]\n",
        "        if (smL > left_sum):\n",
        "            left_sum = smL\n",
        "            cross_start = i\n",
        "            if verbose:\n",
        "                print(\"Sub-arreglo izquierdo:\", arr[cross_start:m])\n",
        "                print(\"Suma sub-arreglo izquierdo:\", smL)\n",
        "                print(\"Índice izquierdo:\",cross_start)\n",
        "\n",
        "    if verbose:\n",
        "        print()\n",
        "    right_sum = float('-inf')\n",
        "    smR = 0\n",
        "    cross_end = m + 1\n",
        "    for i in range(m, h):\n",
        "        smR = smR + arr[i]\n",
        "        if (smR > right_sum):\n",
        "            right_sum = smR\n",
        "            cross_end = i + 1\n",
        "            if verbose:\n",
        "                print(\"Sub-arreglo derecho:\", arr[m:cross_end])\n",
        "                print(\"Suma sub-arreglo derecho:\", smR)\n",
        "                print(\"Índice derecho:\", cross_end)\n",
        "\n",
        "    return cross_start, cross_end, right_sum + left_sum"
      ],
      "metadata": {
        "id": "JNglV00w0hb6"
      },
      "execution_count": 1,
      "outputs": []
    },
    {
      "cell_type": "markdown",
      "source": [
        "# 2. Implementación _MaxSubArray_\n",
        "\n",
        "Descripción del algoritmo:\n",
        "\n",
        "Este algoritmo compara 3 sub-arreglos: el de la izquierda de _mid_, el de la derecha y el que contiene _mid_. Retorna las posiciones de los elementos de inicio y término de el sub-arreglo con la mayor suma, además de dicha suma."
      ],
      "metadata": {
        "id": "Ppj3DXZu85it"
      }
    },
    {
      "cell_type": "code",
      "execution_count": 2,
      "metadata": {
        "id": "RV-hhvAQ0Xx2"
      },
      "outputs": [],
      "source": [
        "def maxSubArray(arr, l, h, verbose=False):\n",
        "    if (l == h-1):\n",
        "        return l, h, arr[l]\n",
        "\n",
        "    m = (l + h) // 2\n",
        "\n",
        "    left_start, left_end, left_max = maxSubArray(arr, l, m)\n",
        "    right_start, right_end, right_max = maxSubArray(arr, m, h)\n",
        "    cross_start, cross_end, cross_max = maxSubArrayMid(arr, l, m, h, verbose)\n",
        "\n",
        "    if verbose:\n",
        "        print(\"\\nSub-arrego máximo:\", arr[cross_start:cross_end])\n",
        "\n",
        "    if(left_max > right_max and left_max > cross_max):\n",
        "        if verbose:\n",
        "            print(\"Índices sub-arreglo izquierdo:\", left_start, left_end-1,\n",
        "                  \"\\nSuma:\", left_max)\n",
        "        return left_start, left_end, left_max\n",
        "    elif(right_max > left_max and right_max > cross_max):\n",
        "        if verbose:\n",
        "            print(\"Índices sub-arreglo derecho:\", right_start, right_end-1,\n",
        "                  \"\\nSuma:\", right_max)\n",
        "        return right_start, right_end, right_max\n",
        "    else:\n",
        "        if verbose:\n",
        "            print(\"Índices sub-arreglo que pasa por mid:\", cross_start,\n",
        "                  cross_end-1, \"\\nSuma:\", cross_max)\n",
        "        return cross_start, cross_end, cross_max"
      ]
    },
    {
      "cell_type": "code",
      "source": [
        "import random\n",
        "a = random.sample(range(-100, 101), 6)\n",
        "print('Entrada:', a)\n",
        "n = len(a)\n",
        "start, end, max_sum = maxSubArray(a, 0, n)\n",
        "print(\"Sub-arrego máximo:\", a[start:end])\n",
        "print(\"Índices:\", start, \" y \", end-1)"
      ],
      "metadata": {
        "colab": {
          "base_uri": "https://localhost:8080/"
        },
        "id": "215mDReek5hm",
        "outputId": "3f73a536-0ea4-4094-df6c-32d66efd5896"
      },
      "execution_count": 3,
      "outputs": [
        {
          "output_type": "stream",
          "name": "stdout",
          "text": [
            "Entrada: [26, -100, -88, -23, -98, 71]\n",
            "Sub-arrego máximo: [71]\n",
            "Índices: 5  y  5\n"
          ]
        }
      ]
    },
    {
      "cell_type": "markdown",
      "source": [
        "Ejemplo con `verbose=True`:"
      ],
      "metadata": {
        "id": "cAZ83K14ZO8g"
      }
    },
    {
      "cell_type": "code",
      "source": [
        "arr = [-1, 3, 4, -5, 9,-2]\n",
        "n = len(arr)\n",
        "start, end, max_sum = maxSubArray(arr, 0, n, True)"
      ],
      "metadata": {
        "colab": {
          "base_uri": "https://localhost:8080/"
        },
        "id": "DC7gRhkp1aWB",
        "outputId": "1a2ebe82-6dd7-4fd4-eccd-b7153540e8f5"
      },
      "execution_count": 4,
      "outputs": [
        {
          "output_type": "stream",
          "name": "stdout",
          "text": [
            "Sub-arreglo izquierdo: [4]\n",
            "Suma sub-arreglo izquierdo: 4\n",
            "Índice izquierdo: 2\n",
            "Sub-arreglo izquierdo: [3, 4]\n",
            "Suma sub-arreglo izquierdo: 7\n",
            "Índice izquierdo: 1\n",
            "\n",
            "Sub-arreglo derecho: [-5]\n",
            "Suma sub-arreglo derecho: -5\n",
            "Índice derecho: 4\n",
            "Sub-arreglo derecho: [-5, 9]\n",
            "Suma sub-arreglo derecho: 4\n",
            "Índice derecho: 5\n",
            "\n",
            "Sub-arrego máximo: [3, 4, -5, 9]\n",
            "Índices sub-arreglo que pasa por mid: 1 4 \n",
            "Suma: 11\n"
          ]
        }
      ]
    },
    {
      "cell_type": "markdown",
      "source": [
        "# 3. Correctitud _MaxSubArrayMid_\n",
        "\n",
        "_MaxSubArrayMid_ encuentra correctamente el sub-arreglo con la suma máxima conteniendo los elementos _mid_ y _mid+1_.\n",
        "\n",
        "Inicialmente, _left_sum_ contiene solo el elemento $-\\infty$, por lo que el primer elemento a comparar, arr[m-1], será siempre la mayor suma, y el acumulador _smL_ se actualiza con ese valor.\n",
        "\n",
        "Hasta este punto, _left_sum_ contiene el mayor valor de la suma, con el elemento arr[m-1].\n",
        "\n",
        "Al repetir el proceso, en la iteración _i_, _sm_ contiene el sub-arreglo que maximiza la suma comenzando desde arr[i] hasta arr[m-1]. Al finalizar el recorrido, _left_sum_ contiene la suma de los elementos que parten desde el rango _l_ hasta _m-1_.\n",
        "\n",
        "Análogamente, la siguiente parte del algoritmo analiza lo que ocurre desde _m_ hasta el final del arreglo (el sub-arreglo derecho). Como es similar, la demostración también aplica.\n",
        "\n",
        "Finalmente, se demostrará que _left_sum_ + _right_sum_ es la máxima suma que pasa por el medio del arreglo. Supongamos que no es así, entonces existe otro sub-arreglo continuo que pasa por el medio con mayor suma, $x$. Podemos separar $x$ en _mid_, _xLeft_sum_ es la suma de sus elementos a la izquierda de _mid_ y _xRight_sum_ a la derecha, sin incluir _mid_. Sabemos que _xLeft_sum_ < _xLeft_sum_ y _right_sum_ < _xRight_sum_, y que podemos hacer $x$ más grande al hacer _xLeft_sum_ = _Left_sum_ y _xRight_sum_ = _right_sum_. Pero esto contradice la suposición de que $x$ tiene un mayor valor que _left_sum_ + _right_sum_. Por lo tanto, _left_sum_ + _right_sum_ es la mayor suma de elementos que cruza _mid_."
      ],
      "metadata": {
        "id": "30WdAQ_RkCdv"
      }
    },
    {
      "cell_type": "markdown",
      "source": [
        "# 4. Correctitud _MaxSubArray_\n",
        "\n",
        "El algoritmo asume que _MaxSubArray_ se encuentra a la izquierda, derecha o contiene el punto de división del arreglo por la mitad.\n",
        "\n",
        "Con $n=1$ se tiene un sub-arreglo de 1 elemento, el cual es trivialmente la máxima suma total.\n",
        "\n",
        "Vamos a probar que la función entrega correctamente la suma para $n \\geq 1$. Para eso vamos a probar que se cumple para un array de largo $2n$.\n",
        "\n",
        "Entre los 3 sub-arreglos, el de la izquierda, derecha o el que pasa por _mid_, uno de ellos contiene el máximo valor de la suma. Lo llamaremos $v$. Para el caso izquierdo, $v_l = v$, ya que si $v_l > v$ se contradice el que $v$ sea la mayor suma de todo el arreglo, y en caso contrario, la llamada _maxSubArray(arr, l, m)_ entregó un mal resultado.\n",
        "\n",
        "Ocurre el mismo caso análogo para la derecha.\n",
        "\n",
        "Para el caso del centro, $v_c = v$. Si $v_c > v$ se encontró un sub-arreglo mayor, contradiciendo el que $v$ sea el máximo. En caso contrario, la llamada _maxSubArrayMid(arr, l, m, h)_ entregó mal su resultado, ya que $v_c$ cruza por el medio y debió haberlo considerado.\n",
        "\n",
        "Así queda demostrada la correctitud de _MaxSubArray_."
      ],
      "metadata": {
        "id": "-RZ_nhIMkGZq"
      }
    },
    {
      "cell_type": "markdown",
      "source": [
        "# 5. Análisis temporal\n",
        "\n",
        "La función de recurrencia del algoritmo es $T(n) = 2T(\\frac{n}{2}) + O(n)$.\n",
        "\n",
        "Por Teorema Maestro, se tiene $a=2$, $b=2$ y $d=1$.\n",
        "\n",
        "Así, se cumple el caso $a=b^d$, por lo que el algoritmo tiene una complejidad $O(n \\log n)$."
      ],
      "metadata": {
        "id": "u8a972ZwkKOH"
      }
    },
    {
      "cell_type": "markdown",
      "source": [
        "# 6. Experimentos"
      ],
      "metadata": {
        "id": "BX28TlEjkOLJ"
      }
    },
    {
      "cell_type": "markdown",
      "source": [
        "### 6.1. Comparación entre _maxSubArray_ y el algoritmo de Kadane"
      ],
      "metadata": {
        "id": "oEkGUyVIZTCB"
      }
    },
    {
      "cell_type": "code",
      "source": [
        "import datetime\n",
        "from math import log\n",
        "import matplotlib.pyplot as plt\n",
        "from timeit import repeat\n",
        "%matplotlib inline"
      ],
      "metadata": {
        "id": "fq6b-9fAVboC"
      },
      "execution_count": 5,
      "outputs": []
    },
    {
      "cell_type": "code",
      "source": [
        "def kadane(a,size):\n",
        "    max_so_far = float(\"inf\") - 1\n",
        "    max_ending_here = 0\n",
        "    for i in range(0, size):\n",
        "        max_ending_here = max_ending_here + a[i]\n",
        "        if (max_so_far < max_ending_here):\n",
        "            max_so_far = max_ending_here\n",
        "        if max_ending_here < 0:\n",
        "            max_ending_here = 0   \n",
        "    return max_so_far"
      ],
      "metadata": {
        "id": "YwmXxv1BU3KN"
      },
      "execution_count": 6,
      "outputs": []
    },
    {
      "cell_type": "code",
      "source": [
        "x = []\n",
        "y = []\n",
        "\n",
        "x2 = []\n",
        "y2 = []\n",
        "\n",
        "for n in range(5,500):\n",
        "    a = random.sample(range(1, 1000), n)\n",
        "    t = repeat(setup=\"from __main__ import kadane\", stmt=f\"kadane({a}, {n})\", repeat=1, number=10)\n",
        "    x.append(n)\n",
        "    y.append(t)\n",
        "\n",
        "for n2 in range(5,500):\n",
        "    a2 = random.sample(range(1, 1000), n2)\n",
        "    t2 = repeat(setup=\"from __main__ import maxSubArray, maxSubArrayMid\", stmt=f\"maxSubArray({a2}, {0}, {len(a2)})\", repeat=1, number=10)\n",
        "    x2.append(n2)\n",
        "    y2.append(t2)\n",
        "\n",
        "plt.plot(x, y)\n",
        "plt.plot(x2, y2)\n",
        "plt.legend([\"Kadane\", \"maxSubArray\", \"n log(n)\"])\n",
        "\n",
        "plt.xlabel('n')\n",
        "plt.ylabel('time in ms')\n",
        "plt.title(\"Kadane's algorithm vs maxSubArray\")\n",
        "\n",
        "plt.grid()\n",
        "plt.show()"
      ],
      "metadata": {
        "colab": {
          "base_uri": "https://localhost:8080/",
          "height": 295
        },
        "id": "iDyaG3RgVEkx",
        "outputId": "e7375e29-cec0-4010-d272-30336bddb348"
      },
      "execution_count": 7,
      "outputs": [
        {
          "output_type": "display_data",
          "data": {
            "text/plain": [
              "<Figure size 432x288 with 1 Axes>"
            ],
            "image/png": "[encoded data removed]"
          },
          "metadata": {
            "needs_background": "light"
          }
        }
      ]
    },
    {
      "cell_type": "markdown",
      "source": [
        "Como se puede notar en los gráficos, el algoritmo de Kadane es constantemente más eficiente que la implementación _maxSubArray_. Sin embargo, a veces, para algunos $n$, Kadane muestra subidas drásticas en su tiempo de ejecución. De igual manera, _maxSubArray_ muestra el mismo comportamiento para varios $n$ distintos."
      ],
      "metadata": {
        "id": "Dpw3VBs4Zk5E"
      }
    }
  ]
}