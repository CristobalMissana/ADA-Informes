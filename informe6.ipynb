{
  "nbformat": 4,
  "nbformat_minor": 0,
  "metadata": {
    "colab": {
      "provenance": [],
      "collapsed_sections": []
    },
    "kernelspec": {
      "name": "python3",
      "display_name": "Python 3"
    },
    "language_info": {
      "name": "python"
    }
  },
  "cells": [
    {
      "cell_type": "markdown",
      "source": [
        "# 1. Pivot Selection"
      ],
      "metadata": {
        "id": "gFTuu9YlCxNG"
      }
    },
    {
      "cell_type": "markdown",
      "source": [
        "## 1.1. Descripción del problema\n",
        "\n",
        "Se busca encontrar el elemento de la posición i-ésima de tal manera que existan i-1 elementos menores que éste.\n",
        "\n",
        "**Entrada**: Arreglo A y valor i.\n",
        "\n",
        "**Salida**: Valor del elemento que cumpla la condición de que hayan i-1 elementos menores que él."
      ],
      "metadata": {
        "id": "y1l0kSLDhphQ"
      }
    },
    {
      "cell_type": "code",
      "source": [
        "from math import ceil\n",
        "from statistics import median_low\n",
        "import random"
      ],
      "metadata": {
        "id": "tiPNaHnsFJM7"
      },
      "execution_count": 1,
      "outputs": []
    },
    {
      "cell_type": "code",
      "source": [
        "def insertionSort(arr, verbose=False):\n",
        "    n = len(arr)\n",
        "    c = 0 # Contador de comparaciones\n",
        "    if verbose == True:\n",
        "        print('\\nInput array:', arr)\n",
        "    # Se recorre el arreglo\n",
        "    for i in range(1, n):\n",
        "        c += 1\n",
        "        if verbose == True:\n",
        "            print('\\nPasada', i)\n",
        "        elemento = arr[i]\n",
        "        j = i-1\n",
        "        # Cambia la posición del elemento si es menor que su predecesor\n",
        "        while j >= 0 and elemento < arr[j]:\n",
        "            c += 1\n",
        "            arr[j+1] = arr[j]\n",
        "            j -= 1\n",
        "        arr[j+1] = elemento\n",
        "        if verbose == True:\n",
        "            print('\\nArray:', arr)\n",
        "    if verbose == True:\n",
        "        print('\\nDone')\n",
        "    return arr, c"
      ],
      "metadata": {
        "id": "V9uOi2GEEO0y"
      },
      "execution_count": 2,
      "outputs": []
    },
    {
      "cell_type": "code",
      "source": [
        "def separarLista(A, verbose=False):\n",
        "    lista = list() # Lista que contendrá los grupos de 5 elementos\n",
        "    aux = list() # Lista auxiliar para ir llenando los grupos de 5 elementos\n",
        "    for i in range(len(A)):\n",
        "        aux.append(A[i])\n",
        "        # Cuando la lista aux tiene tamaño 5 se agrega a lista y se vacía\n",
        "        if len(aux) == 5:\n",
        "            if verbose:\n",
        "                print(f'Grupo de 5 elementos: {aux}')\n",
        "            lista.append(aux)\n",
        "            aux = list()\n",
        "    # Se agregan los elementos restantes como una lista aparte si tiene al menos\n",
        "    # 1 elemento y menos de 5\n",
        "    if len(aux) > 0: \n",
        "        lista.append(aux)\n",
        "    return lista"
      ],
      "metadata": {
        "id": "seWoUnMpS01a"
      },
      "execution_count": 3,
      "outputs": []
    },
    {
      "cell_type": "code",
      "execution_count": 4,
      "metadata": {
        "id": "SW5kma8sBLmR"
      },
      "outputs": [],
      "source": [
        "def pivotSelection(A, c, verbose=False):\n",
        "    global c2\n",
        "    if len(A) == 1:\n",
        "        if verbose:\n",
        "            print(f'Pivote escogido: {A[0]}')\n",
        "        return A[0], c2\n",
        "    medianas = list()\n",
        "    lista = separarLista(A)\n",
        "    if verbose:\n",
        "        print(f'Lista agrupada: {lista}')\n",
        "    # Se ordena cada grupo\n",
        "    for l in lista:\n",
        "        l, c = insertionSort(l)\n",
        "    if verbose:\n",
        "        print(f'Lista agrupada y ordenada: {lista}')\n",
        "    c2 += c\n",
        "    # Se llena la lista de medianas\n",
        "    for l in lista:\n",
        "        medianas.append(median_low(l))\n",
        "    if verbose:\n",
        "        print(f'Lista de medianas: {medianas}')\n",
        "    # Se llama a la función recursivamente pero solo con las medianas obtenidas\n",
        "    return pivotSelection(medianas, c2, verbose)"
      ]
    },
    {
      "cell_type": "markdown",
      "source": [
        "# 2. Select Sort"
      ],
      "metadata": {
        "id": "YtzOGSLE8BDv"
      }
    },
    {
      "cell_type": "code",
      "source": [
        "def partition(array, c, verbose=False):\n",
        "    m, _ = pivotSelection(array, c) # Pivote obtenido de pivotSelection()\n",
        "    posPivote = array.index(m)\n",
        "    low = array.index(array[0])\n",
        "    high = array.index(array[-1])\n",
        "    i = low - 1\n",
        "    array[high], array[posPivote] = array[posPivote], array[high]\n",
        "    for j in range(low, high):\n",
        "        # Recorre la lista de elementos. Si el elemento actual es menor que el\n",
        "        # pivote lo intercambia con el último elemento de la parte izquierda\n",
        "        # de la partición\n",
        "        if array[j] <= m:\n",
        "            i += 1\n",
        "            array[i], array[j] = array[j], array[i]\n",
        "    # Intercambia el pivote con el primer elemento de la parte derecha de la\n",
        "    # partición\n",
        "    array[i+1], array[high] = array[high], array[i+1]\n",
        "    if verbose:\n",
        "        print(f'Lista particionada: {array}')\n",
        "        print(f'Posición del pivote: {i+1}')\n",
        "    return i + 1"
      ],
      "metadata": {
        "id": "oCCvQ2O3c1OQ"
      },
      "execution_count": 5,
      "outputs": []
    },
    {
      "cell_type": "code",
      "source": [
        "def select(A, i, c, verbose=False):\n",
        "    if A.index(A[0]) == A.index(A[-1]): # Lista de 1 elemento\n",
        "        if verbose:\n",
        "            print(\"Lista de 1 elemento\")\n",
        "        return A[0]\n",
        "    q = partition(A, c, verbose) # Posición del pivote\n",
        "    if verbose:\n",
        "        print(f'Pivote seleccionado: {A[q]}')\n",
        "    k = q - A.index(A[0]) + 1 # n° de elementos en el subarreglo izquierdo\n",
        "    if i == k: # Posición del pivote es la que se busca\n",
        "        return A[q]\n",
        "    elif i < k: # Se busca en el subarreglo izquierdo\n",
        "        if verbose:\n",
        "            print(\"Subarreglo izquierdo\")\n",
        "        return select(A[:q], i, c, verbose)\n",
        "    else: # Se busca en el subarreglo derecho\n",
        "        if verbose:\n",
        "            print(\"Subarreglo derecho\")\n",
        "        return select(A[q+1:], i, c, verbose)"
      ],
      "metadata": {
        "id": "brR4OQnGZwN5"
      },
      "execution_count": 6,
      "outputs": []
    },
    {
      "cell_type": "code",
      "source": [
        "a = [90, 97, 73, 43, 25, 8, 12, 21, 46, 56, 54, 31, 20, 35, 100, 24, 88, 98, 95, 96, 19, 33, 55, 52, 94]\n",
        "print(f'Entrada: {a}\\n')\n",
        "global c2\n",
        "c2 = 0\n",
        "m, _ = pivotSelection(a, 0)\n",
        "print(f'Mediana: {m}')\n",
        "print(f'Comparaciones: {c2}')"
      ],
      "metadata": {
        "colab": {
          "base_uri": "https://localhost:8080/"
        },
        "id": "8mR3doEZhLW7",
        "outputId": "4d726fb9-5af8-468f-dad1-1f847d810c79"
      },
      "execution_count": 7,
      "outputs": [
        {
          "output_type": "stream",
          "name": "stdout",
          "text": [
            "Entrada: [90, 97, 73, 43, 25, 8, 12, 21, 46, 56, 54, 31, 20, 35, 100, 24, 88, 98, 95, 96, 19, 33, 55, 52, 94]\n",
            "\n",
            "Mediana: 52\n",
            "Comparaciones: 13\n"
          ]
        }
      ]
    },
    {
      "cell_type": "code",
      "source": [
        "a = [90, 97, 73, 43, 25, 8, 12, 21, 46, 56, 54, 31, 20, 35, 100, 24, 88, 98, 95, 96, 19, 33, 55, 52, 94]\n",
        "b = 11\n",
        "print(f'Entrada: {a}\\n')\n",
        "x = select(a, b, 0, True)\n",
        "print(f'Elemento en la posición {b}: {x}')"
      ],
      "metadata": {
        "colab": {
          "base_uri": "https://localhost:8080/"
        },
        "id": "Mn_RKjM3cLGr",
        "outputId": "cb473981-75ae-41b0-b9f5-94563f11e161"
      },
      "execution_count": 8,
      "outputs": [
        {
          "output_type": "stream",
          "name": "stdout",
          "text": [
            "Entrada: [90, 97, 73, 43, 25, 8, 12, 21, 46, 56, 54, 31, 20, 35, 100, 24, 88, 98, 95, 96, 19, 33, 55, 52, 94]\n",
            "\n",
            "Lista particionada: [43, 25, 8, 12, 21, 46, 31, 20, 35, 24, 19, 33, 52, 73, 100, 56, 88, 98, 95, 96, 54, 90, 55, 94, 97]\n",
            "Posición del pivote: 12\n",
            "Pivote seleccionado: 52\n",
            "Subarreglo izquierdo\n",
            "Lista particionada: [8, 12, 20, 19, 21, 46, 31, 43, 35, 24, 25, 33]\n",
            "Posición del pivote: 4\n",
            "Pivote seleccionado: 21\n",
            "Subarreglo derecho\n",
            "Lista particionada: [24, 25, 43, 35, 46, 33, 31]\n",
            "Posición del pivote: 1\n",
            "Pivote seleccionado: 25\n",
            "Subarreglo derecho\n",
            "Lista particionada: [31, 33, 35, 43, 46]\n",
            "Posición del pivote: 2\n",
            "Pivote seleccionado: 35\n",
            "Subarreglo derecho\n",
            "Lista particionada: [43, 46]\n",
            "Posición del pivote: 0\n",
            "Pivote seleccionado: 43\n",
            "Subarreglo derecho\n",
            "Lista de 1 elemento\n",
            "Elemento en la posición 11: 46\n"
          ]
        }
      ]
    },
    {
      "cell_type": "code",
      "source": [
        "a = [90, 97, 73, 43, 25, 8, 12, 21, 46, 56, 54, 31, 20, 35, 100, 24, 88, 98, 95, 96, 19, 33, 55, 52, 94]\n",
        "b = 8\n",
        "print(f'Entrada: {a}\\n')\n",
        "x = select(a, b, 0)\n",
        "print(f'{b}° elemento: {x}')"
      ],
      "metadata": {
        "id": "zxKkQeUzcJH6",
        "colab": {
          "base_uri": "https://localhost:8080/"
        },
        "outputId": "5dd3028f-eb75-489a-cfc6-799bf32d0620"
      },
      "execution_count": 9,
      "outputs": [
        {
          "output_type": "stream",
          "name": "stdout",
          "text": [
            "Entrada: [90, 97, 73, 43, 25, 8, 12, 21, 46, 56, 54, 31, 20, 35, 100, 24, 88, 98, 95, 96, 19, 33, 55, 52, 94]\n",
            "\n",
            "8° elemento: 46\n"
          ]
        }
      ]
    },
    {
      "cell_type": "code",
      "source": [
        "a = [90, 97, 73, 43, 25, 8, 12, 21, 46, 56, 54, 31, 20, 35, 100, 24, 88, 98, 95, 96, 19, 33, 55, 52, 94]\n",
        "a.sort()\n",
        "print(a)"
      ],
      "metadata": {
        "id": "4NxwrsAeMliv",
        "colab": {
          "base_uri": "https://localhost:8080/"
        },
        "outputId": "30a38630-8e2b-4953-b5a2-9791d4d31377"
      },
      "execution_count": 10,
      "outputs": [
        {
          "output_type": "stream",
          "name": "stdout",
          "text": [
            "[8, 12, 19, 20, 21, 24, 25, 31, 33, 35, 43, 46, 52, 54, 55, 56, 73, 88, 90, 94, 95, 96, 97, 98, 100]\n"
          ]
        }
      ]
    },
    {
      "cell_type": "markdown",
      "source": [
        "# 3. Correctitud Select"
      ],
      "metadata": {
        "id": "sNdghlZkWjno"
      }
    },
    {
      "cell_type": "markdown",
      "source": [
        "## 4. Complejidad temporal Select\n",
        "\n",
        "La función de recursión de Select tiene la forma: $T(n)=T($tamaño subproblema 1$) + T($tamaño subproblema 2$) + O(n)$.\n",
        "\n",
        "El tamaño del subproblema 1 es $\\frac{n}{5}$. El tamaño del segundo es $?$.\n",
        "\n",
        "Para obtener $?$ se probará el siguiente lema:\n",
        "\n",
        "**Lema 30-70**: _Para cada lista de entrada con largo_ $n \\geq 2$_, el subarreglo entregado a las llamadas recursivas de Select tiene tamaño como máximo de_ $\\frac{7n}{10}$.\n",
        "\n",
        "**Demostración**: $k = \\frac{n}{5}$ es el número de grupos de 5 elementos. $x_i$ es el i-ésimo menor elemento del grupo, $x_1, ..., x_k$ son los elementos del grupo en orden ascendente. La mediana de medianas corresponde a $x_{\\frac{k}{2}}$ o $x_{⌈\\frac{k}{2}⌉}$ para $k$ impar. Al menos un $50\\%$ de los grupos tiene una mediana menor y al menos un $60\\%$ de los elementos de esos grupos son menores o iguales al valor obtenido. Por lo tanto, al menos un $50\\% \\cdot 60\\% = 30\\%$ de los elementos del arreglo original son menores o iguales al pivote. Similarmente, al menos un $30\\%$ de los elementos del arreglo original son mayores que el pivote. Así queda demostrado el _Lema 30-70_.\n",
        "\n",
        "Como el lema se cumple, $?$ equivale a $\\frac{7n}{10}$.\n",
        "\n",
        "$T(n)=T(\\frac{n}{5}) + T(\\frac{7n}{10}) + O(n)$\n",
        "\n",
        "$T(1) = 1$ $\\rightarrow$ $\\frac{1}{5}+\\frac{7}{10} < 1$\n",
        "\n",
        "Se probará por inducción que $T(n) = O(n)$:\n",
        "\n",
        "Existe una constante $l>0$ tal que $T(n) \\leq l \\cdot n$\n",
        "\n",
        "$T(n) \\leq T(\\frac{n}{5}) + T(\\frac{7n}{10}) + c \\cdot n$\n",
        "\n",
        "$T(n) \\leq l \\cdot \\frac{n}{5} + l \\cdot \\frac{7n}{10} + c \\cdot n$\n",
        "\n",
        "$T(n) \\leq n\\left(\\frac{9}{10} \\cdot l + c\\right) \\rightarrow$ se escoge convenientemente $l = 10c \\Rightarrow \\frac{9l}{10} + c = 10c = l$ (como $c$ es constante, $l$ también lo es).\n",
        "\n",
        "Finalmente queda $T(n) \\leq l \\cdot n = O(n)$, por lo que se demuestra la inducción."
      ],
      "metadata": {
        "id": "v8up6gIBMaMu"
      }
    }
  ]
}