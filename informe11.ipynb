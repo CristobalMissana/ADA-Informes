{
  "nbformat": 4,
  "nbformat_minor": 0,
  "metadata": {
    "colab": {
      "provenance": [],
      "collapsed_sections": []
    },
    "kernelspec": {
      "name": "python3",
      "display_name": "Python 3"
    },
    "language_info": {
      "name": "python"
    }
  },
  "cells": [
    {
      "cell_type": "markdown",
      "source": [
        "# Problema del camino más corto"
      ],
      "metadata": {
        "id": "U4U0xzWnQ7aF"
      }
    },
    {
      "cell_type": "markdown",
      "source": [
        "### Funciones auxiliares"
      ],
      "metadata": {
        "id": "ulFksTs15A0b"
      }
    },
    {
      "cell_type": "code",
      "source": [
        "from math import log\n",
        "from random import randint\n",
        "from timeit import repeat\n",
        "\n",
        "import matplotlib.pyplot as plt\n",
        "import networkx as nx\n",
        "import random\n",
        "import sys\n",
        "\n",
        "%matplotlib inline"
      ],
      "metadata": {
        "id": "ChfLw60WaAcD"
      },
      "execution_count": 1,
      "outputs": []
    },
    {
      "cell_type": "code",
      "source": [
        "def is_valid_edge(generated_edges: dict, i: int, j: int):\n",
        "    return i != j and not generated_edges.get((i, j), None) and not generated_edges.get((j, i), None)"
      ],
      "metadata": {
        "id": "RofJ0KHYZ9xm"
      },
      "execution_count": 2,
      "outputs": []
    },
    {
      "cell_type": "code",
      "source": [
        "def instance_generator(n: int):\n",
        "    \"\"\"\n",
        "        Input: cantidad de vértices\n",
        "        Output: una lista que contiene todos los arcos y el número del vértice fuente (la función retorna dos variables).\n",
        "        Los arcos vienen en la forma (i, j, weight), donde i es el vértice origen del arco y j el vértice al que apunta el arco, mientras que weight es su peso.\n",
        "    \"\"\"\n",
        "    graph = []\n",
        "    nodes = random.sample(range(0, n), n)\n",
        "    unvisited_nodes = random.sample(range(0, n), n)\n",
        "    \n",
        "    generated_edges = {}\n",
        "    for i in nodes:\n",
        "        rand = random.sample(nodes, random.randint(1, 3))\n",
        "\n",
        "        for j in rand:\n",
        "            edge = (i, j)\n",
        "            edge_with_weight = (i, j, random.randint(1, 50))\n",
        "            \n",
        "            if generated_edges.get((edge[1], edge[0]), None):\n",
        "                continue\n",
        "            \n",
        "            if i == j:\n",
        "                new_vertice = None\n",
        "                iterations = 0\n",
        "                while new_vertice is None and iterations < 250:\n",
        "                    iterations += 1\n",
        "                    number = random.randint(0, n - 1)\n",
        "                    if is_valid_edge(generated_edges, i, number):\n",
        "                        new_vertice = number\n",
        "\n",
        "                if iterations >= 250:\n",
        "                    return instance_generator(n)\n",
        "                \n",
        "                edge = (i, new_vertice)\n",
        "                edge_with_weight = (i, new_vertice, random.randint(-50, 50)) # -25 y 100 corresponde a los límites de los pesos, puede cambiarlos.\n",
        "            \n",
        "            graph.append(edge_with_weight)\n",
        "            generated_edges[edge] = edge\n",
        "\n",
        "            if edge_with_weight[1] in unvisited_nodes:\n",
        "                unvisited_nodes.remove(edge_with_weight[1])\n",
        "\n",
        "    for i in unvisited_nodes:\n",
        "        valid_edge = False\n",
        "        iterations = 0\n",
        "        while not valid_edge and iterations < 250:\n",
        "            iterations += 1\n",
        "            m = random.randint(0, n - 1)\n",
        "            if is_valid_edge(generated_edges, m, i):\n",
        "                valid_edge = True\n",
        "                edge = (m, i)\n",
        "                edge_with_weight = (m, i, random.randint(-50, 50)) # -25 y 100 corresponde a los límites de los pesos, puede cambiarlos.\n",
        "                graph.append(edge_with_weight)\n",
        "                generated_edges[edge] = edge\n",
        "\n",
        "        if iterations >= 250:\n",
        "            return instance_generator(n)\n",
        "\n",
        "    return graph, graph[0][0]"
      ],
      "metadata": {
        "id": "QE6U-NpaY0Vq"
      },
      "execution_count": 3,
      "outputs": []
    },
    {
      "cell_type": "code",
      "source": [
        "def instance_generator_positive(n: int):\n",
        "    \"\"\"\n",
        "        Input: cantidad de vértices\n",
        "        Output: una lista que contiene todos los arcos y el número del vértice fuente (la función retorna dos variables).\n",
        "        Los arcos vienen en la forma (i, j, weight), donde i es el vértice origen del arco y j el vértice al que apunta el arco, mientras que weight es su peso.\n",
        "    \"\"\"\n",
        "    graph = []\n",
        "    nodes = random.sample(range(0, n), n)\n",
        "    unvisited_nodes = random.sample(range(0, n), n)\n",
        "    \n",
        "    generated_edges = {}\n",
        "    for i in nodes:\n",
        "        rand = random.sample(nodes, random.randint(1, 3))\n",
        "\n",
        "        for j in rand:\n",
        "            edge = (i, j)\n",
        "            edge_with_weight = (i, j, random.randint(1, 50))\n",
        "            \n",
        "            if generated_edges.get((edge[1], edge[0]), None):\n",
        "                continue\n",
        "            \n",
        "            if i == j:\n",
        "                new_vertice = None\n",
        "                iterations = 0\n",
        "                while new_vertice is None and iterations < 250:\n",
        "                    iterations += 1\n",
        "                    number = random.randint(0, n - 1)\n",
        "                    if is_valid_edge(generated_edges, i, number):\n",
        "                        new_vertice = number\n",
        "\n",
        "                if iterations >= 250:\n",
        "                    return instance_generator(n)\n",
        "                \n",
        "                edge = (i, new_vertice)\n",
        "                edge_with_weight = (i, new_vertice, random.randint(1, 50)) # 1 y 50 corresponde a los límites de los pesos, puede cambiarlos.\n",
        "            \n",
        "            graph.append(edge_with_weight)\n",
        "            generated_edges[edge] = edge\n",
        "\n",
        "            if edge_with_weight[1] in unvisited_nodes:\n",
        "                unvisited_nodes.remove(edge_with_weight[1])\n",
        "\n",
        "    for i in unvisited_nodes:\n",
        "        valid_edge = False\n",
        "        iterations = 0\n",
        "        while not valid_edge and iterations < 250:\n",
        "            iterations += 1\n",
        "            m = random.randint(0, n - 1)\n",
        "            if is_valid_edge(generated_edges, m, i):\n",
        "                valid_edge = True\n",
        "                edge = (m, i)\n",
        "                edge_with_weight = (m, i, random.randint(1, 50)) # 1 y 50 corresponde a los límites de los pesos, puede cambiarlos.\n",
        "                graph.append(edge_with_weight)\n",
        "                generated_edges[edge] = edge\n",
        "\n",
        "        if iterations >= 250:\n",
        "            return instance_generator(n)\n",
        "\n",
        "    return graph, graph[0][0]"
      ],
      "metadata": {
        "id": "dY32U2SxZ2ci"
      },
      "execution_count": 4,
      "outputs": []
    },
    {
      "cell_type": "code",
      "source": [
        "def list_to_adj_matrix(graph_list, n):\n",
        "    \"\"\"\n",
        "        Input: Un grafo en formato list[tuple].\n",
        "        Ej: [(x1, y1, peso1), (x2, y2, peso2), ...].\n",
        "        Output: Matriz de adyacencia del grafo.\n",
        "    \"\"\"\n",
        "    m = len(graph_list)\n",
        "    adjMat = [[0 for i in range(n)]for j in range(n)]\n",
        "    for _ in range(m):\n",
        "        for (x, y, peso) in g2:\n",
        "            adjMat[x][y] = peso\n",
        "    return adjMat"
      ],
      "metadata": {
        "id": "Wa_HVWFG-bYb"
      },
      "execution_count": 5,
      "outputs": []
    },
    {
      "cell_type": "code",
      "source": [
        "def graph_to_nxdigraph(graph: list, n: int):\n",
        "    \"\"\"\n",
        "        Input: Un grafo en formato list[tuple].\n",
        "        Ej: [(0, 1, 10), (1, 2, 15), (2, 0, 7)].\n",
        "        Output: Un nx.DiGraph de la libreria networkx.\n",
        "    \"\"\"\n",
        "    nxdigraph = nx.DiGraph()\n",
        "    [nxdigraph.add_node(i) for i in range(n)]\n",
        "\n",
        "    for v in graph:\n",
        "        nxdigraph.add_edge(v[0], v[1], weight=v[2])\n",
        "\n",
        "    return nxdigraph"
      ],
      "metadata": {
        "id": "_YMQ610GY6qc"
      },
      "execution_count": 6,
      "outputs": []
    },
    {
      "cell_type": "code",
      "source": [
        "def visualize_graph(lista_grafo, n):\n",
        "    \"\"\"\n",
        "        Input: Un grafo en formato list[tuple].\n",
        "        Ej: [(x1, y1, peso1), (x2, y2, peso2), ...].\n",
        "        Output: No retorna nada. Imprime el grafo.\n",
        "    \"\"\"\n",
        "    grafoNX = graph_to_nxdigraph(lista_grafo, n)\n",
        "    pos = nx.circular_layout(grafoNX)\n",
        "    labels = nx.get_edge_attributes(grafoNX, 'weight')\n",
        "\n",
        "    nx.draw_networkx(grafoNX, pos)\n",
        "    nx.draw_networkx_edge_labels(grafoNX, pos, edge_labels=labels)\n",
        "    plt.show()"
      ],
      "metadata": {
        "id": "Zkc-tsDl6RJW"
      },
      "execution_count": 7,
      "outputs": []
    },
    {
      "cell_type": "markdown",
      "source": [
        "## 1. Algoritmo de Bellman-Ford"
      ],
      "metadata": {
        "id": "iy89xnwbQ_5V"
      }
    },
    {
      "cell_type": "markdown",
      "source": [
        "### 1.1. Descripción del algoritmo\n",
        "\n",
        "El algoritmo de Bellman-Ford resuleve el problema de optimización de encontrar el camino más corto de un grafo dirigido con $n$ nodos.\n",
        "\n",
        "El grafo puede contener arcos con costo negativo, por lo que éste puede entregar 2 resultados: el camino más corto o que el grafo contiene u ciclo negativo, así que no existe un camino más corto.\n",
        "\n",
        "**Entrada**: Grafo G con $n$ nodos y el nodo de inicio.\n",
        "\n",
        "**Salida**: Valor del camino más corto desde el nodo inicial hasta el resto de los nodos.\n",
        "\n",
        "Se genera una lista en la que se almacenarán los costos totales de los caminos desde el nodo inicial hasta cada uno de los nodos del grafo y se inicializa el raíz en 0 y el resto en infinito.\n",
        "\n",
        "Se repite el cálculo $|V|-1$ veces, porque es el máximo número de arcos que se pueden usar para armar el camino más corto.\n",
        "\n",
        "Por cada iteración se calcula el valor del arco más el del nodo anterior (0 para el nodo raíz) y si es menor que el valor del nodo del que se está calculando, se actualiza.\n",
        "\n",
        "Luego de haber terminado de calcular, se repite el proceso para detectar posibles ciclos negativos. Si se puede reducir de nuevo algún valor, entonces existe un ciclo negativo y el algoritmo retorna un mensaje indicándolo y la lista de distancias vacía."
      ],
      "metadata": {
        "id": "hQXPJsmbRC6c"
      }
    },
    {
      "cell_type": "code",
      "execution_count": 8,
      "metadata": {
        "id": "JEt7ni1TYCOE"
      },
      "outputs": [],
      "source": [
        "class GraphBF():\n",
        " \n",
        "    def __init__(self, vertices):\n",
        "        self.V = vertices  # No. de vértices\n",
        "        self.graph = list()\n",
        " \n",
        "    # Función para agregar aristas al grafo\n",
        "    def addEdge(self, u, v, w):\n",
        "        self.graph.append((u, v, w))\n",
        " \n",
        "    # Función para imprimir los resultados\n",
        "    def printArr(self, dist):\n",
        "        print(\"Vertex Distance from Source\")\n",
        "        for i in range(self.V):\n",
        "            print(\"{0}\\t\\t{1}\".format(i, dist[i]))\n",
        "\n",
        "    # Función que calcula las distancias más cortas desde un nodo raíz hasta\n",
        "    # los demás nodos del grafo. La función también detecta ciclos negativos.\n",
        "    def BellmanFord(self, src, verbose=False, visualize=False, print_solution=True):\n",
        "\n",
        "        # Se inicializan las distancias en 0 para el nodo raíz y en infinito\n",
        "        # para todo el resto de nodos\n",
        "        dist = [float(\"Inf\")] * self.V\n",
        "        dist[src] = 0\n",
        "        if verbose:\n",
        "            print(f'Inicializando arreglo de distancias...')\n",
        "            print(dist, '\\n')\n",
        "\n",
        "        # Se aplica la función relax V-1 veces (el camino simple más corto\n",
        "        # puede tener a lo más V-1 aristas)\n",
        "        for o in range(self.V - 1):\n",
        "            # Se calcula el valor de la distancia\n",
        "            for u, v, w in self.graph:\n",
        "                if dist[u] != float(\"Inf\") and dist[u] + w < dist[v]:\n",
        "                    dist[v] = dist[u] + w\n",
        "            if verbose:\n",
        "                print(f'Arreglo de distancias en iteración {o+1}: {dist}')\n",
        "\n",
        "        # Bucle para buscar ciclos negativos. El paso anterior garantiza las\n",
        "        # distancias más cortas posibles del grafo si éste no contiene ciclos\n",
        "        # negativos. Si este bucle encuentra un camino más corto que el obtenido\n",
        "        # antes, entonces existe un ciclo negativo y retorna una lista vacía.\n",
        "        if verbose:\n",
        "            print(\"\\nBuscando ciclos negativos...\")\n",
        "        for u, v, w in self.graph:\n",
        "            if dist[u] != float(\"Inf\") and dist[u] + w < dist[v]:\n",
        "                if print_solution:\n",
        "                    print(\"El grafo contiene un ciclo negativo\")\n",
        "                dist = list()\n",
        "                return dist\n",
        "\n",
        "        if verbose:\n",
        "            print()\n",
        "        if print_solution:\n",
        "            print(\"No existen ciclos negativos\\n\")\n",
        "            self.printArr(dist)\n",
        "        if visualize:\n",
        "            visualize_graph(self.graph, self.V)"
      ]
    },
    {
      "cell_type": "code",
      "source": [
        "n = 5\n",
        "g, root = instance_generator(n)\n",
        "#print(g, root, n)\n",
        "grafo = GraphBF(n)\n",
        "for (x, y, peso) in g:\n",
        "    grafo.addEdge(x, y, peso)\n",
        "grafo.BellmanFord(root)"
      ],
      "metadata": {
        "colab": {
          "base_uri": "https://localhost:8080/"
        },
        "id": "2r8CxshIvcI_",
        "outputId": "e98a2d1d-7e43-4d2c-e899-1517cc372c18"
      },
      "execution_count": 9,
      "outputs": [
        {
          "output_type": "stream",
          "name": "stdout",
          "text": [
            "No existen ciclos negativos\n",
            "\n",
            "Vertex Distance from Source\n",
            "0\t\t-10\n",
            "1\t\t25\n",
            "2\t\t13\n",
            "3\t\t15\n",
            "4\t\t0\n"
          ]
        }
      ]
    },
    {
      "cell_type": "markdown",
      "source": [
        "## 2. Algoritmo de Dijkstra"
      ],
      "metadata": {
        "id": "-xAoK5F4ZOZ0"
      }
    },
    {
      "cell_type": "markdown",
      "source": [
        "### 2.1. Descripción del algoritmo\n",
        "\n",
        "El algoritmo de Dijkstra resuelve el problema de optimización de encontrar el camino más corto para grafos dirigidos con $n$ nodos.\n",
        "\n",
        "**Entrada**: Grafo G con $n$ nodos y el nodo de inicio.\n",
        "\n",
        "**Salida**: Valor del camino más corto desde el nodo raíz hasta el resto de los nodos del grafo.\n",
        "\n",
        "Se crea la lista de distancias y se inicializan sus valores en 0 para el nodo raíz e infinito para el resto.\n",
        "\n",
        "Luego se escoge el mínimo camino del conjunto de nodos no visitados y lo agrega al árbol de recorrido.\n",
        "\n",
        "Actualiza la lista de distancias si el nuevo nodo no está en el árbol de recorrido."
      ],
      "metadata": {
        "id": "ul3qrN-HZUZM"
      }
    },
    {
      "cell_type": "code",
      "source": [
        "class GraphD():\n",
        " \n",
        "    def __init__(self, vertices):\n",
        "        self.V = vertices # No. de vértices\n",
        "        self.graph = [[0 for column in range(vertices)] for row in range(vertices)]\n",
        "        self.aristas = list()\n",
        "\n",
        "    # Función para agregar aristas al grafo\n",
        "    def addEdge(self, u, v, w):\n",
        "        self.aristas.append((u, v, w))\n",
        " \n",
        "    # Función para imprimir los resultados\n",
        "    def printSolution(self, dist):\n",
        "        print(\"Vertex Distance from Source\")\n",
        "        for node in range(self.V):\n",
        "            print(node, \"\\t\", dist[node])\n",
        "\n",
        "    # Función que permite encontrar el nodo con el mínimo valor de distancia del\n",
        "    # conjunto de nodos aún no incluídos en el árbol de caminos cortos.\n",
        "    def minDistance(self, dist, sptSet):\n",
        "        min = float(\"Inf\")\n",
        " \n",
        "        for u in range(self.V):\n",
        "            if dist[u] < min and sptSet[u] == False:\n",
        "                min = dist[u]\n",
        "                min_index = u\n",
        " \n",
        "        return min_index\n",
        "\n",
        "    # Función que calcula las distancias más cortas desde un nodo raíz hasta los\n",
        "    # demás nodos del grafo representado como matriz de adyacencia\n",
        "    def Dijkstra(self, src, verbose=False, visualize=False, print_solution=True):\n",
        " \n",
        "        dist = [float(\"Inf\")] * self.V\n",
        "        dist[src] = 0\n",
        "        sptSet = [False] * self.V\n",
        "        if verbose:\n",
        "            print(f'Inicializando arreglo de distancias...')\n",
        "            print(dist, '\\n')\n",
        " \n",
        "        for o in range(self.V):\n",
        "\n",
        "            # Escoge el nodo con la mínima distancia del conjunto de nodos aún\n",
        "            # no procesados\n",
        "            try:\n",
        "                x = self.minDistance(dist, sptSet)\n",
        "            except:\n",
        "                x = -1\n",
        "\n",
        "            # Agrega el nodo con distancia mínima el árbol de caminos cortos\n",
        "            sptSet[x] = True\n",
        "\n",
        "            # Actualiza el valor de la distancia de los nodos adyacentes del\n",
        "            # nodo actual solo si la distancia actual es mayor que la nueva\n",
        "            # distancia calculada y el nodo no está en el árbol de caminos cortos\n",
        "            for y in range(self.V):\n",
        "                if self.graph[x][y] > 0 and sptSet[y] == False and \\\n",
        "                        dist[y] > dist[x] + self.graph[x][y]:\n",
        "                    dist[y] = dist[x] + self.graph[x][y]\n",
        "            if verbose:\n",
        "                print(f'Arreglo de distancias en iteración {o+1}: {dist}')\n",
        "        if verbose:\n",
        "            print()\n",
        "        if print_solution:\n",
        "            self.printSolution(dist)\n",
        "        if visualize:\n",
        "            visualize_graph(self.aristas, self.V)"
      ],
      "metadata": {
        "id": "Q8ZU00wY4Vjd"
      },
      "execution_count": 10,
      "outputs": []
    },
    {
      "cell_type": "code",
      "source": [
        "n2 = 5\n",
        "g2, root2 = instance_generator_positive(n2)\n",
        "adjMat = list_to_adj_matrix(g2, n2)\n",
        "grafo2 = GraphD(n2)\n",
        "\n",
        "grafo2.graph = adjMat\n",
        "grafo2.Dijkstra(root2)"
      ],
      "metadata": {
        "colab": {
          "base_uri": "https://localhost:8080/"
        },
        "id": "vKHr1zAC4WQN",
        "outputId": "6917a2ff-365b-4a76-8e1c-bf05559cbaff"
      },
      "execution_count": 11,
      "outputs": [
        {
          "output_type": "stream",
          "name": "stdout",
          "text": [
            "Vertex Distance from Source\n",
            "0 \t 3\n",
            "1 \t 31\n",
            "2 \t 45\n",
            "3 \t 0\n",
            "4 \t 24\n"
          ]
        }
      ]
    },
    {
      "cell_type": "markdown",
      "source": [
        "## 3. Opción `visualize=True`"
      ],
      "metadata": {
        "id": "QkZjqTOj5n6I"
      }
    },
    {
      "cell_type": "code",
      "source": [
        "n = 10\n",
        "g, root = instance_generator(n)\n",
        "#print(g, root, n)\n",
        "grafo = GraphBF(n)\n",
        "for (x, y, peso) in g:\n",
        "    grafo.addEdge(x, y, peso)\n",
        "grafo.BellmanFord(root, False, True)"
      ],
      "metadata": {
        "colab": {
          "base_uri": "https://localhost:8080/",
          "height": 480
        },
        "id": "7eVHo3yy2wK1",
        "outputId": "5c8185f8-8569-48b0-99eb-d1b1083dafd3"
      },
      "execution_count": 12,
      "outputs": [
        {
          "output_type": "stream",
          "name": "stdout",
          "text": [
            "No existen ciclos negativos\n",
            "\n",
            "Vertex Distance from Source\n",
            "0\t\t24\n",
            "1\t\t14\n",
            "2\t\t73\n",
            "3\t\t31\n",
            "4\t\t14\n",
            "5\t\t31\n",
            "6\t\t12\n",
            "7\t\t-6\n",
            "8\t\t0\n",
            "9\t\t5\n"
          ]
        },
        {
          "output_type": "display_data",
          "data": {
            "text/plain": [
              "<Figure size 432x288 with 1 Axes>"
            ],
            "image/png": "[encoded data removed]"
          },
          "metadata": {}
        }
      ]
    },
    {
      "cell_type": "code",
      "source": [
        "n2 = 10\n",
        "g2, root2 = instance_generator_positive(n2)\n",
        "m = len(g2)\n",
        "adjMat = list_to_adj_matrix(g2, n2)\n",
        "grafo2 = GraphD(n2)\n",
        "\n",
        "for (x, y, peso) in g2:\n",
        "    grafo2.addEdge(x, y, peso)\n",
        "\n",
        "grafo2.graph = adjMat\n",
        "grafo2.Dijkstra(root2, False, True)"
      ],
      "metadata": {
        "colab": {
          "base_uri": "https://localhost:8080/",
          "height": 445
        },
        "id": "UrB4T_6g2wGF",
        "outputId": "1f257ccc-401b-49b3-8119-e9a2775ca6e1"
      },
      "execution_count": 13,
      "outputs": [
        {
          "output_type": "stream",
          "name": "stdout",
          "text": [
            "Vertex Distance from Source\n",
            "0 \t 115\n",
            "1 \t 104\n",
            "2 \t 61\n",
            "3 \t 143\n",
            "4 \t 27\n",
            "5 \t 135\n",
            "6 \t 0\n",
            "7 \t 41\n",
            "8 \t 136\n",
            "9 \t 53\n"
          ]
        },
        {
          "output_type": "display_data",
          "data": {
            "text/plain": [
              "<Figure size 432x288 with 1 Axes>"
            ],
            "image/png": "[encoded data removed]"
          },
          "metadata": {}
        }
      ]
    },
    {
      "cell_type": "markdown",
      "source": [
        "## 4. Opción `verbose=True`"
      ],
      "metadata": {
        "id": "fy6YvcNzDcqx"
      }
    },
    {
      "cell_type": "code",
      "source": [
        "n = 10\n",
        "g, root = instance_generator(n)\n",
        "#print(g, root, n)\n",
        "grafo = GraphBF(n)\n",
        "for (x, y, peso) in g:\n",
        "    grafo.addEdge(x, y, peso)\n",
        "grafo.BellmanFord(root, True)"
      ],
      "metadata": {
        "colab": {
          "base_uri": "https://localhost:8080/"
        },
        "id": "r5ME1b1BuLsh",
        "outputId": "5803676a-1c6a-422b-e225-fdaad9be2eb2"
      },
      "execution_count": 14,
      "outputs": [
        {
          "output_type": "stream",
          "name": "stdout",
          "text": [
            "Inicializando arreglo de distancias...\n",
            "[inf, inf, inf, inf, 0, inf, inf, inf, inf, inf] \n",
            "\n",
            "Arreglo de distancias en iteración 1: [inf, inf, 40, inf, 0, 87, inf, inf, inf, 86]\n",
            "Arreglo de distancias en iteración 2: [91, inf, 40, 132, 0, 87, inf, inf, 114, 86]\n",
            "Arreglo de distancias en iteración 3: [91, inf, 40, 132, 0, 87, inf, inf, 114, 86]\n",
            "Arreglo de distancias en iteración 4: [91, inf, 40, 132, 0, 87, inf, inf, 114, 86]\n",
            "Arreglo de distancias en iteración 5: [91, inf, 40, 132, 0, 87, inf, inf, 114, 86]\n",
            "Arreglo de distancias en iteración 6: [91, inf, 40, 132, 0, 87, inf, inf, 114, 86]\n",
            "Arreglo de distancias en iteración 7: [91, inf, 40, 132, 0, 87, inf, inf, 114, 86]\n",
            "Arreglo de distancias en iteración 8: [91, inf, 40, 132, 0, 87, inf, inf, 114, 86]\n",
            "Arreglo de distancias en iteración 9: [91, inf, 40, 132, 0, 87, inf, inf, 114, 86]\n",
            "\n",
            "Buscando ciclos negativos...\n",
            "\n",
            "No existen ciclos negativos\n",
            "\n",
            "Vertex Distance from Source\n",
            "0\t\t91\n",
            "1\t\tinf\n",
            "2\t\t40\n",
            "3\t\t132\n",
            "4\t\t0\n",
            "5\t\t87\n",
            "6\t\tinf\n",
            "7\t\tinf\n",
            "8\t\t114\n",
            "9\t\t86\n"
          ]
        }
      ]
    },
    {
      "cell_type": "code",
      "source": [
        "n2 = 10\n",
        "g2, root2 = instance_generator_positive(n2)\n",
        "m = len(g2)\n",
        "adjMat = list_to_adj_matrix(g2, n2)\n",
        "grafo2 = GraphD(n2)\n",
        "grafo2.graph = adjMat\n",
        "grafo2.Dijkstra(root2, True)"
      ],
      "metadata": {
        "colab": {
          "base_uri": "https://localhost:8080/"
        },
        "id": "NfLsWn-luZLZ",
        "outputId": "9ebe5fad-796b-451e-c6da-6ab727f6d212"
      },
      "execution_count": 15,
      "outputs": [
        {
          "output_type": "stream",
          "name": "stdout",
          "text": [
            "Inicializando arreglo de distancias...\n",
            "[inf, inf, inf, inf, inf, 0, inf, inf, inf, inf] \n",
            "\n",
            "Arreglo de distancias en iteración 1: [36, inf, inf, 31, inf, 0, 6, inf, inf, inf]\n",
            "Arreglo de distancias en iteración 2: [36, inf, inf, 31, inf, 0, 6, 50, inf, 26]\n",
            "Arreglo de distancias en iteración 3: [36, 45, inf, 31, inf, 0, 6, 50, inf, 26]\n",
            "Arreglo de distancias en iteración 4: [36, 45, inf, 31, 33, 0, 6, 50, 81, 26]\n",
            "Arreglo de distancias en iteración 5: [36, 45, 76, 31, 33, 0, 6, 50, 81, 26]\n",
            "Arreglo de distancias en iteración 6: [36, 45, 76, 31, 33, 0, 6, 50, 81, 26]\n",
            "Arreglo de distancias en iteración 7: [36, 45, 76, 31, 33, 0, 6, 50, 81, 26]\n",
            "Arreglo de distancias en iteración 8: [36, 45, 51, 31, 33, 0, 6, 50, 81, 26]\n",
            "Arreglo de distancias en iteración 9: [36, 45, 51, 31, 33, 0, 6, 50, 81, 26]\n",
            "Arreglo de distancias en iteración 10: [36, 45, 51, 31, 33, 0, 6, 50, 81, 26]\n",
            "\n",
            "Vertex Distance from Source\n",
            "0 \t 36\n",
            "1 \t 45\n",
            "2 \t 51\n",
            "3 \t 31\n",
            "4 \t 33\n",
            "5 \t 0\n",
            "6 \t 6\n",
            "7 \t 50\n",
            "8 \t 81\n",
            "9 \t 26\n"
          ]
        }
      ]
    },
    {
      "cell_type": "markdown",
      "source": [
        "## 5. Correctitud algoritmo de Bellman-Ford\n",
        "\n",
        "**Teorema**: _Si un grafo $G=(V, E)$ no contiene ciclos negativos, entonces el algoritmo retorna correctamente la distancia mínima desde un nodo inicial hasta cada otro nodo de G._\n",
        "\n",
        "**Inducción**: _Luego de la iteración $i$, $v.d$ es a lo más el peso de cada camino desde el nodo inicial hasta $v$, usando a lo más $i$ aristas, $\\forall v \\in V$._\n",
        "\n",
        "Antes de la iteración $i$, $v.d \\leq \\min{\\left\\{w(p): |p| \\leq i-1 \\right\\}}$, donde $|p|$ corresponde a la cantidad de aristas de p.\n",
        "\n",
        "La función _relaxation_ solo puede igualar o disminuir el valor de $v.d$, por lo que se mantiene verdadero.\n",
        "\n",
        "La iteración $i$ considera todos los caminos con igual o menor cantidad de aristas que $i$ al aplicar _relax_ sobre las nuevas aristas.\n",
        "\n",
        "Por lo tanto, se demuestra que el algoritmo computa correctamente el camino más corto para grafos sin ciclos negativos."
      ],
      "metadata": {
        "id": "bhniifgL6A7L"
      }
    },
    {
      "cell_type": "markdown",
      "source": [
        "## 6. Complejidad temporal para ambos algoritmos\n",
        "\n",
        "El algoritmo de Bellman-Ford tiene complejidad temporal $O(V \\cdot E)$: $O(V)$ para inicializar los valores de la lista de costos, $O(V \\cdot E)$ para la ejecución de la función _relax_ y $O(E)$ para el bucle que revisa si existen ciclos negativos.\n",
        "\n",
        "$T(n) = O(V) + O(V \\cdot E) + O(E) = O(V \\cdot E)$\n",
        "\n",
        "El algoritmo de Dijkstra tiene complejidad temporal $O(V^2)$: el algoritmo tiene 2 bucles _for_ anidados, ambos con rango desde 0 hasta $V$, por lo que la complejidad resulta en $O(V^2)$."
      ],
      "metadata": {
        "id": "Ff6K49Mr6FTp"
      }
    },
    {
      "cell_type": "markdown",
      "source": [
        "# 7. Experimentos"
      ],
      "metadata": {
        "id": "lChloZmgv8PK"
      }
    },
    {
      "cell_type": "markdown",
      "source": [
        "## 7.1. Timepo de ejecución medio para Bellman-Ford"
      ],
      "metadata": {
        "id": "07vuJsUDwQMO"
      }
    },
    {
      "cell_type": "code",
      "source": [
        "def experimento(n):\n",
        "    g, root = instance_generator(n)\n",
        "    grafo = GraphBF(n)\n",
        "    for (x, y, peso) in g:\n",
        "        grafo.addEdge(x, y, peso)\n",
        "    return grafo.BellmanFord(root, False, False, False)"
      ],
      "metadata": {
        "id": "oJ3gPcNPzLC3"
      },
      "execution_count": 16,
      "outputs": []
    },
    {
      "cell_type": "code",
      "source": [
        "x = []\n",
        "y = []\n",
        "\n",
        "times = []\n",
        "\n",
        "for n in range(5, 150):\n",
        "    t = repeat(setup=\"from __main__ import is_valid_edge, instance_generator, GraphBF, experimento\", stmt=f'experimento({n})', repeat=25, number=10)\n",
        "    x.append(n)\n",
        "    times.append(t)\n",
        "    \n",
        "for i in times:\n",
        "    a = sum(i)\n",
        "    a = a/25\n",
        "    y.append(a)\n",
        "\n",
        "plt.plot(x, y)\n",
        "\n",
        "plt.xlabel('n')\n",
        "plt.ylabel('time in ms')\n",
        "plt.title(\"Algoritmo de Bellman-Ford: tiempo según tamaño de entrada\")\n",
        "\n",
        "plt.grid()\n",
        "plt.show()"
      ],
      "metadata": {
        "colab": {
          "base_uri": "https://localhost:8080/",
          "height": 295
        },
        "id": "SKOrlesowPIT",
        "outputId": "5ca9c1bf-3b63-40d2-92c0-2e5f4822ae2b"
      },
      "execution_count": 17,
      "outputs": [
        {
          "output_type": "display_data",
          "data": {
            "text/plain": [
              "<Figure size 432x288 with 1 Axes>"
            ],
            "image/png": "[encoded data removed]"
          },
          "metadata": {
            "needs_background": "light"
          }
        }
      ]
    },
    {
      "cell_type": "markdown",
      "source": [
        "Como se aprecia en el gráfico, la curva tiene un comportamiento cuadrático, que calza con lo demostrado en la sección de complejidad temporal."
      ],
      "metadata": {
        "id": "Wqxnif4hcLpd"
      }
    }
  ]
}